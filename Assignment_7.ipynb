{
 "cells": [
  {
   "cell_type": "code",
   "execution_count": 1,
   "id": "99da0762",
   "metadata": {},
   "outputs": [],
   "source": [
    "#1. What is the name of the feature responsible for generating Regex objects?\n",
    "#Ans: re.compile()\n",
    "import re\n",
    "re.compile()\n",
    "\n"
   ]
  },
  {
   "cell_type": "code",
   "execution_count": null,
   "id": "6f4c32c5",
   "metadata": {},
   "outputs": [],
   "source": [
    "#2. Why do raw strings often appear in Regex objects?\n",
    "#Ans: To consider all characters as raw including backslashes so that it is not escaped."
   ]
  },
  {
   "cell_type": "code",
   "execution_count": 13,
   "id": "6691caaa",
   "metadata": {},
   "outputs": [],
   "source": [
    "#3. What is the return value of the search() method?\n",
    "#Ans: Search method returns the first occurance of pattern in string.\n",
    "\n",
    "import re\n",
    "str=\"Avinashin\"\n",
    "t= re.search('ins',str)"
   ]
  },
  {
   "cell_type": "code",
   "execution_count": 23,
   "id": "c4ae6809",
   "metadata": {},
   "outputs": [
    {
     "data": {
      "text/plain": [
       "'in'"
      ]
     },
     "execution_count": 23,
     "metadata": {},
     "output_type": "execute_result"
    }
   ],
   "source": [
    "#4. From a Match item, how do you get the actual strings that match the pattern?\n",
    "#Ans: Group method\n",
    "\n",
    "import re\n",
    "str=\"Avinashin\"\n",
    "t= re.search('in',str)\n",
    "t.group(0)\n"
   ]
  },
  {
   "cell_type": "code",
   "execution_count": 26,
   "id": "c5e29f1e",
   "metadata": {},
   "outputs": [
    {
     "name": "stdout",
     "output_type": "stream",
     "text": [
      "<re.Match object; span=(0, 3), match='dfg'>\n",
      "<re.Match object; span=(3, 6), match='dfg'>\n",
      "<re.Match object; span=(6, 9), match='dfg'>\n",
      "<re.Match object; span=(9, 12), match='dfg'>\n",
      "<re.Match object; span=(12, 15), match='dfg'>\n"
     ]
    }
   ],
   "source": [
    "#5. In the regex which created from the r'(\\d\\d\\d)-(\\d\\d\\d-\\d\\d\\d\\d)';, what does group zero cover?\n",
    "#Group 2? Group 1?\n",
    "#Ans: Group 0 contains the matching string\n",
    " #Group 1 contains the string matching with (\\d\\d\\d)\n",
    "#Group 2 conatins the string matching with (\\d\\d\\d-\\d\\d\\d\\d)\n",
    "\n",
    "#for e.g. is string matched is 999-999-9999\n",
    "#group 0 is 999-999-9999\n",
    "#group 1 is 999\n",
    "#group 2 is 999-9999"
   ]
  },
  {
   "cell_type": "code",
   "execution_count": null,
   "id": "2fcbad81",
   "metadata": {},
   "outputs": [],
   "source": [
    "#6.In standard expression syntax, parentheses and intervals have distinct meanings. How can you tell\n",
    "#a regex that you want it to fit real parentheses and periods?\n",
    "#Ans: For parentheses we can use \\( and for intervals we have directly pass as chracter or in whole word have to pass in brackets [].\n",
    "# for real parentheses pass \\( and for period pass \\.\n"
   ]
  },
  {
   "cell_type": "code",
   "execution_count": 10,
   "id": "d4affa8a",
   "metadata": {},
   "outputs": [
    {
     "name": "stdout",
     "output_type": "stream",
     "text": [
      "['ssf']\n"
     ]
    }
   ],
   "source": [
    "#7. The findall() method returns a string list or a list of string tuples. What causes it to return one of\n",
    "#the two options?\n",
    "#Ans: if the regex have no groups it will return the list of strings and if regex have groups it will return the tuples.\n",
    "\n",
    "import re\n",
    "str1=\"ysdsdfsdfsdfsdf ssfsdf asfsdfsfd sfsdgsd sfsdf dssd\"\n",
    "\n",
    "tt= re.compile(r'(sdfv|ssf)')\n",
    "matches= tt.findall(str1)\n",
    "print(matches)\n"
   ]
  },
  {
   "cell_type": "code",
   "execution_count": null,
   "id": "2aaa1f91",
   "metadata": {},
   "outputs": [],
   "source": [
    "#8 In standard expressions, what does the | character mean?\n",
    "#Ans: this is used in groups if have to find group with either or conditon.\n"
   ]
  },
  {
   "cell_type": "code",
   "execution_count": null,
   "id": "aa7ea317",
   "metadata": {},
   "outputs": [],
   "source": [
    "#9. In regular expressions, what does the character stand for?\n",
    "#Ans: An aplhabet/literal which we want to search."
   ]
  },
  {
   "cell_type": "code",
   "execution_count": 13,
   "id": "e98c7790",
   "metadata": {},
   "outputs": [
    {
     "name": "stdout",
     "output_type": "stream",
     "text": [
      "['', '', '', '', '', '', '', '', '', '', '', '', '', '', '', '', 'ssf', '', '', '', '', '', '', '', '', '', '', '', '', '', '', '', '', '', '', '', '', '', '', '', '', '', '', '', '', '', '', '', '', '']\n",
      "['ssf']\n"
     ]
    }
   ],
   "source": [
    "#10. In regular expressions, what is the difference between the + and * characters?\n",
    "#Ans: These are the special characters \n",
    "#+ matches 1 or more preceding characters\n",
    "#0 matches 0 or more preceding charcters.\n",
    "\n",
    "import re\n",
    "str1=\"ysdsdfsdfsdfsdf ssfsdf asfsdfsfd sfsdgsd sfsdf dssd\"\n",
    "\n",
    "tt= re.compile(r'(sdfv|ssf)*')\n",
    "matches= tt.findall(str1)\n",
    "print(matches)\n",
    "\n",
    "tt= re.compile(r'(sdfv|ssf)+')\n",
    "matches= tt.findall(str1)\n",
    "print(matches)"
   ]
  },
  {
   "cell_type": "code",
   "execution_count": 21,
   "id": "361fdbd3",
   "metadata": {},
   "outputs": [
    {
     "name": "stdout",
     "output_type": "stream",
     "text": [
      "<callable_iterator object at 0x000001AEF47F78E0>\n"
     ]
    }
   ],
   "source": [
    "#11. What is the difference between {4} and {4,5} in regular expression?\n",
    "#Ans: {4} Matches the string to its left by 4 times and {4,5} matches the tsring to its left 4-5 times.\n",
    "\n"
   ]
  },
  {
   "cell_type": "code",
   "execution_count": null,
   "id": "e56d5c54",
   "metadata": {},
   "outputs": [],
   "source": [
    "#12. What do you mean by the \\d, \\w, and \\s shorthand character classes signify in regular\n",
    "#expressions?\n",
    "#Ans: \\d look for digits\n",
    "#\\w look for alphanumeric characters and also _\n",
    "#\\s matches spaces\n",
    "\n",
    "\n"
   ]
  },
  {
   "cell_type": "code",
   "execution_count": null,
   "id": "78e389bf",
   "metadata": {},
   "outputs": [],
   "source": [
    "#13. What do means by \\D, \\W, and \\S shorthand character classes signify in regular expressions?\n",
    "\n",
    "#Ans: \\D all characters non digits\n",
    "#\\W all not alphanumeric words\n",
    "#\\S everything except spaces.\n"
   ]
  },
  {
   "cell_type": "code",
   "execution_count": null,
   "id": "413cc16f",
   "metadata": {},
   "outputs": [],
   "source": [
    "#14. What is the difference between .*? and .*?\n",
    "#Ans: .*? is not greedy will search for first find and exit while .* is greedy will look till end and will return the last matchs.\n",
    "\n",
    "# for e.g. 1010000100\n",
    "#.*? will match only 101\n",
    "#.* will match 10100001\n",
    "\n",
    "\n"
   ]
  },
  {
   "cell_type": "code",
   "execution_count": null,
   "id": "98c57a74",
   "metadata": {},
   "outputs": [],
   "source": [
    "#15. What is the syntax for matching both numbers and lowercase letters with a character class?\n",
    "\n",
    "#Ans:  [a-z0-9]\n"
   ]
  },
  {
   "cell_type": "code",
   "execution_count": null,
   "id": "f0e61d18",
   "metadata": {},
   "outputs": [],
   "source": [
    "#16. What is the procedure for making a normal expression in regax case insensitive?\n",
    "#Ans: we can pass \n",
    "#re.compile(r'dsdf',re.IGNORECASE)\n"
   ]
  },
  {
   "cell_type": "code",
   "execution_count": 27,
   "id": "decbb22a",
   "metadata": {},
   "outputs": [
    {
     "name": "stdout",
     "output_type": "stream",
     "text": [
      "['y', 's', 'd', 's', 'd', 'f', 's', 'd', 'f', 's', 'd', 'f', 's', 'd', 'f', ' ', 's', 's', 'f', 's', 'd', 'f', ' ', 'a', 's', 'f', 's', 'd', 'f', 's', 'f', 'd', ' ', 's', 'f', 's', 'd', 'g', 's', 'd', ' ', 's', 'f', 's', 'd', 'f', ' ', 'd', 's', 's', 'd', 'f', 'w', 'w', 'e', 'r', 'w', 'e', 'r', 'w', 'e', 'r', 'w', 'e', 'r', 'w', 'e', 'w', 'e', 'r', 'w', 'e', 'r', 'w', 'e', 'r', 'w', 'e', 'r', 'w', 'e', 'r', 'w']\n"
     ]
    }
   ],
   "source": [
    "#17. What does the . character normally match? What does it match if re.DOTALL is passed as 2nd\n",
    "#argument in re.compile()?\n",
    "\n",
    "#Ans: . normally matches all characters except new line with re.DOTALL will matches al the characters including new line as well.\n",
    "\n",
    "import re\n",
    "str1='''ysdsdfsdfsdfsdf ssfsdf asfsdfsfd sfsdgsd sfsdf dssd\n",
    "fwwerwerwerwerwe\n",
    "werwerwer\n",
    "werwerw'''\n",
    "\n",
    "tt= re.compile(r'.',flags=re.DOTALL)\n",
    "matches= tt.findall(str1)\n",
    "print(matches)\n"
   ]
  },
  {
   "cell_type": "code",
   "execution_count": 32,
   "id": "fba3f071",
   "metadata": {},
   "outputs": [
    {
     "name": "stdout",
     "output_type": "stream",
     "text": [
      "X drummers, X pipers, five rings, Xhen\n"
     ]
    }
   ],
   "source": [
    "#18. If numReg = re.compile(r'\\d+'), what will numRegex.sub('X', '11 drummers, 10 pipers, five rings, 4hen') return?\n",
    "\n",
    "#Ans: it will replace all digits in character with X\n",
    "import re\n",
    "numRegex = re.compile(r'\\d+')\n",
    "tt= numRegex.sub('X', '11 drummers, 10 pipers, five rings, 4hen')\n",
    "print(tt)"
   ]
  },
  {
   "cell_type": "code",
   "execution_count": null,
   "id": "4e7cf44f",
   "metadata": {},
   "outputs": [],
   "source": [
    "#19.  What does passing re.VERBOSE as the 2nd argument to re.compile() allow to do?\n",
    "\n",
    "#Ans: To make regular expression more clear we can use re.verbose in compile, please refer the below e.g.\n",
    "\n",
    "#logFmt = '\\[[0-9]{8}T[0-9]{6}\\.[0-9]{3}Z:[0-9](/[0-9]*)?\\][ ]*.*'\n",
    "#logFmtRe = re.compile(logFmt)\n",
    "#above is long format we can use like below.\n",
    "\n",
    "logFmt = '''\n",
    "    \\[\n",
    "    [0-9]{8}T[0-9]{6}\\.[0-9]{3}Z          # the date\n",
    "    :[0-9]                                # the severity\n",
    "    (/[0-9]*)?                            # a possible facility\n",
    "    \\]\n",
    "    [ ]*.*                                # the message\n",
    "'''\n",
    "\n",
    "logFmtRe = re.compile(logFmt, re.VERBOSE)"
   ]
  },
  {
   "cell_type": "code",
   "execution_count": 16,
   "id": "9936cdc3",
   "metadata": {},
   "outputs": [
    {
     "name": "stdout",
     "output_type": "stream",
     "text": [
      "<re.Match object; span=(2, 4), match='42'>\n",
      "<re.Match object; span=(7, 12), match='1,234'>\n",
      "<re.Match object; span=(15, 28), match='6,368,745,444'>\n",
      "<re.Match object; span=(32, 34), match='12'>\n",
      "<re.Match object; span=(35, 41), match='34,567'>\n",
      "<re.Match object; span=(41, 43), match='33'>\n",
      "<re.Match object; span=(46, 49), match='123'>\n",
      "<re.Match object; span=(49, 50), match='4'>\n"
     ]
    }
   ],
   "source": [
    "#20. How would you write a regex that match a number with comma for every three digits? It must\n",
    "#match the given following:\n",
    "\n",
    "#Ans: \\d{1,3}(,\\d{3})*\n",
    "\n",
    "import re\n",
    "str1='''\n",
    "'42'\n",
    "'1,234'\n",
    "'6,368,745'\n",
    "\n",
    "'12,34,56733'\n",
    "'1234'\n",
    "'''\n",
    "tt= re.compile(r'\\d{1,3}(,\\d{3})*')\n",
    "matches= tt.finditer(str1)\n",
    "for match in matches:\n",
    "    print(match)\n"
   ]
  },
  {
   "cell_type": "code",
   "execution_count": 21,
   "id": "a32d2493",
   "metadata": {},
   "outputs": [
    {
     "name": "stdout",
     "output_type": "stream",
     "text": [
      "<re.Match object; span=(2, 17), match='Haruto Watanabe'>\n",
      "<re.Match object; span=(20, 34), match='Alice Watanabe'>\n",
      "<re.Match object; span=(37, 53), match='RoboCop Watanabe'>\n"
     ]
    }
   ],
   "source": [
    "#21. How would you write a regex that matches the full name of someone whose last name is Watanabe? You can assume that the first name that comes before it will always be one word that\n",
    "#begins with a capital letter. The regex must match the following:\n",
    "\n",
    "import re\n",
    "str1='''\n",
    "'Haruto Watanabe'\n",
    "'Alice Watanabe'\n",
    "'RoboCop Watanabe'\n",
    "'haruto Watanabe' (where the first name is not capitalized)\n",
    "'Mr. Watanabe' (where the preceding word has a nonletter character)\n",
    "'Watanabe' (which has no first name)\n",
    "'Haruto watanabe' (where Watanabe is not capitalized)\n",
    "'''\n",
    "tt= re.compile(r'[A-Z][a-z]*([A-Z][a-z]*)*\\s[A-Z][a-z]*')\n",
    "matches= tt.finditer(str1)\n",
    "for match in matches:\n",
    "    print(match)"
   ]
  },
  {
   "cell_type": "code",
   "execution_count": 23,
   "id": "66c397eb",
   "metadata": {},
   "outputs": [
    {
     "name": "stdout",
     "output_type": "stream",
     "text": [
      "<re.Match object; span=(2, 20), match='Alice eats apples.'>\n",
      "<re.Match object; span=(23, 37), match='Bob pets cats.'>\n",
      "<re.Match object; span=(40, 63), match='Carol throws baseballs.'>\n",
      "<re.Match object; span=(66, 86), match='Alice throws Apples.'>\n",
      "<re.Match object; span=(89, 103), match='BOB EATS CATS.'>\n"
     ]
    }
   ],
   "source": [
    "#22. How would you write a regex that matches a sentence where the first word is either Alice, Bob,\n",
    "#or Carol; the second word is either eats, pets, or throws; the third word is apples, cats, or baseballs;\n",
    "#and the sentence ends with a period? This regex should be case-insensitive. It must match the\n",
    "#following:\n",
    "\n",
    "import re\n",
    "str1='''\n",
    "'Alice eats apples.'\n",
    "'Bob pets cats.'\n",
    "'Carol throws baseballs.'\n",
    "'Alice throws Apples.'\n",
    "'BOB EATS CATS.'\n",
    "but not the following:\n",
    "'RoboCop eats apples.'\n",
    "'ALICE THROWS FOOTBALLS.'\n",
    "'Carol eats 7 cats.'\n",
    "'''\n",
    "tt= re.compile(r'(Alice|Bob|Carol)\\s(eats|pets|throws)\\s(apples|cats|baseballs)\\.', re.IGNORECASE)\n",
    "matches= tt.finditer(str1)\n",
    "for match in matches:\n",
    "    print(match)"
   ]
  },
  {
   "cell_type": "code",
   "execution_count": null,
   "id": "d9d53ee0",
   "metadata": {},
   "outputs": [],
   "source": []
  }
 ],
 "metadata": {
  "kernelspec": {
   "display_name": "Python 3",
   "language": "python",
   "name": "python3"
  },
  "language_info": {
   "codemirror_mode": {
    "name": "ipython",
    "version": 3
   },
   "file_extension": ".py",
   "mimetype": "text/x-python",
   "name": "python",
   "nbconvert_exporter": "python",
   "pygments_lexer": "ipython3",
   "version": "3.9.4"
  }
 },
 "nbformat": 4,
 "nbformat_minor": 5
}
