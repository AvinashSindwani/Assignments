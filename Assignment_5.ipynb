{
 "cells": [
  {
   "cell_type": "code",
   "execution_count": 3,
   "id": "861f9e42",
   "metadata": {},
   "outputs": [
    {
     "data": {
      "text/plain": [
       "dict"
      ]
     },
     "execution_count": 3,
     "metadata": {},
     "output_type": "execute_result"
    }
   ],
   "source": [
    "#1. What does an empty dictionary's code look like?\n",
    "#Ans: a={}\n",
    "type(a)"
   ]
  },
  {
   "cell_type": "code",
   "execution_count": 6,
   "id": "aadf53e8",
   "metadata": {},
   "outputs": [],
   "source": [
    "#2. What is the value of a dictionary value with the key 'foo' and the value 42?\n",
    "#Ans: {'foo': 42}\n",
    "a= {'foo': 42}"
   ]
  },
  {
   "cell_type": "code",
   "execution_count": null,
   "id": "9ff296bf",
   "metadata": {},
   "outputs": [],
   "source": [
    "#3. What is the most significant distinction between a dictionary and a list?\n",
    "#Ans:List: Lists are ordered sequence of objects, dictionaries are not.\n",
    "# dictionary can be accessed by keys not by position but lists are."
   ]
  },
  {
   "cell_type": "code",
   "execution_count": 9,
   "id": "dcc0949b",
   "metadata": {},
   "outputs": [
    {
     "ename": "KeyError",
     "evalue": "'foo'",
     "output_type": "error",
     "traceback": [
      "\u001b[1;31m---------------------------------------------------------------------------\u001b[0m",
      "\u001b[1;31mKeyError\u001b[0m                                  Traceback (most recent call last)",
      "\u001b[1;32m<ipython-input-9-02acada66051>\u001b[0m in \u001b[0;36m<module>\u001b[1;34m\u001b[0m\n\u001b[0;32m      2\u001b[0m \u001b[1;33m\u001b[0m\u001b[0m\n\u001b[0;32m      3\u001b[0m \u001b[0mspam\u001b[0m \u001b[1;33m=\u001b[0m \u001b[1;33m{\u001b[0m\u001b[1;34m'bar'\u001b[0m\u001b[1;33m:\u001b[0m \u001b[1;36m100\u001b[0m\u001b[1;33m}\u001b[0m\u001b[1;33m\u001b[0m\u001b[1;33m\u001b[0m\u001b[0m\n\u001b[1;32m----> 4\u001b[1;33m \u001b[0mspam\u001b[0m\u001b[1;33m[\u001b[0m\u001b[1;34m'foo'\u001b[0m\u001b[1;33m]\u001b[0m\u001b[1;33m\u001b[0m\u001b[1;33m\u001b[0m\u001b[0m\n\u001b[0m",
      "\u001b[1;31mKeyError\u001b[0m: 'foo'"
     ]
    }
   ],
   "source": [
    "#4. What happens if you try to access spam['foo'] if spam is {'bar': 100}?\n",
    "#Ans: KeyError\n",
    "spam = {'bar': 100}\n",
    "spam['foo']"
   ]
  },
  {
   "cell_type": "code",
   "execution_count": 14,
   "id": "41809311",
   "metadata": {},
   "outputs": [
    {
     "ename": "TypeError",
     "evalue": "dict.keys() takes no arguments (1 given)",
     "output_type": "error",
     "traceback": [
      "\u001b[1;31m---------------------------------------------------------------------------\u001b[0m",
      "\u001b[1;31mTypeError\u001b[0m                                 Traceback (most recent call last)",
      "\u001b[1;32m<ipython-input-14-4ce16c41f710>\u001b[0m in \u001b[0;36m<module>\u001b[1;34m\u001b[0m\n\u001b[0;32m      3\u001b[0m \u001b[0mspam\u001b[0m\u001b[1;33m=\u001b[0m \u001b[1;33m{\u001b[0m\u001b[1;34m'cat'\u001b[0m\u001b[1;33m:\u001b[0m \u001b[1;36m100\u001b[0m\u001b[1;33m}\u001b[0m\u001b[1;33m\u001b[0m\u001b[1;33m\u001b[0m\u001b[0m\n\u001b[0;32m      4\u001b[0m \u001b[0mspam\u001b[0m\u001b[1;33m[\u001b[0m\u001b[1;34m'cat'\u001b[0m\u001b[1;33m]\u001b[0m\u001b[1;33m\u001b[0m\u001b[1;33m\u001b[0m\u001b[0m\n\u001b[1;32m----> 5\u001b[1;33m \u001b[0mspam\u001b[0m\u001b[1;33m.\u001b[0m\u001b[0mkeys\u001b[0m\u001b[1;33m(\u001b[0m\u001b[1;33m[\u001b[0m\u001b[1;34m'cat'\u001b[0m\u001b[1;33m]\u001b[0m\u001b[1;33m)\u001b[0m\u001b[1;33m\u001b[0m\u001b[1;33m\u001b[0m\u001b[0m\n\u001b[0m",
      "\u001b[1;31mTypeError\u001b[0m: dict.keys() takes no arguments (1 given)"
     ]
    }
   ],
   "source": [
    "#5. If a dictionary is stored in spam, what is the difference between the expressions 'cat' in spam and 'cat' in spam.keys()?\n",
    "#Ans: Not sure about the exact diffrence cat inside spam is the direct access to value stored in dictionary against cat key while cat inside spam.keys() is just an element inside list does not ahve values.\n",
    "spam= {'cat': 100}\n",
    "spam['cat']\n",
    "spam.keys()"
   ]
  },
  {
   "cell_type": "code",
   "execution_count": 46,
   "id": "a4655a1a",
   "metadata": {},
   "outputs": [
    {
     "data": {
      "text/plain": [
       "dict_values([100, 'black'])"
      ]
     },
     "execution_count": 46,
     "metadata": {},
     "output_type": "execute_result"
    }
   ],
   "source": [
    "#6. If a dictionary is stored in spam, what is the difference between the expressions 'cat' in spam and 'cat' in spam.values()?\n",
    "#Ans: spam.values() will only return values of the dictionary don't have 'cat' expression there, please correct if i'm wrong.\n",
    "\n",
    "spam.values()"
   ]
  },
  {
   "cell_type": "code",
   "execution_count": 47,
   "id": "c41696b7",
   "metadata": {},
   "outputs": [],
   "source": [
    "#7. What is a shortcut for the following code?\n",
    "\n",
    "if 'color' not in spam:\n",
    "    spam['color'] = 'black'\n",
    "spam= {'cat': 100}\n",
    "spam['color'] = 'black'\n",
    "spam.update({'color': 'black'})\n"
   ]
  },
  {
   "cell_type": "code",
   "execution_count": 38,
   "id": "92b831c2",
   "metadata": {},
   "outputs": [
    {
     "name": "stdout",
     "output_type": "stream",
     "text": [
      "[{'Age': '23', 'Country': 'USA', 'Name': 'John'},\n",
      " {'Age': '44', 'Country': 'Spain', 'Name': 'Jose'},\n",
      " {'Age': '29', 'Country': 'UK', 'Name': 'Anne'},\n",
      " {'Age': '35', 'Country': 'Japan', 'Name': 'Lee'}]\n"
     ]
    }
   ],
   "source": [
    "#8. How do you \"pretty print\" dictionary values using which module and function?\n",
    "#Ans:\n",
    "import pprint\n",
    "\n",
    "dct_arr = [\n",
    "  {'Name': 'John', 'Age': '23', 'Country': 'USA'},\n",
    "  {'Name': 'Jose', 'Age': '44', 'Country': 'Spain'},\n",
    "  {'Name': 'Anne', 'Age': '29', 'Country': 'UK'},\n",
    "  {'Name': 'Lee', 'Age': '35', 'Country': 'Japan'}\n",
    "]\n",
    "\n",
    "pprint.pprint(dct_arr)"
   ]
  },
  {
   "cell_type": "code",
   "execution_count": null,
   "id": "542fabe9",
   "metadata": {},
   "outputs": [],
   "source": [
    "import json\n",
    "dct_arr = [\n",
    "  {'Name': 'John', 'Age': '23', 'Country': 'USA'},\n",
    "  {'Name': 'Jose', 'Age': '44', 'Country': 'Spain'},\n",
    "  {'Name': 'Anne', 'Age': '29', 'Country': 'UK'},\n",
    "  {'Name': 'Lee', 'Age': '35', 'Country': 'Japan'}\n",
    "]\n",
    "print(json.dumps(dct_arr, sort_keys=False, indent=4))\n",
    "\n",
    "import json\n",
    "\n",
    "dct_arr = [\n",
    "  {'Name': 'John', 'Age': '23', 'Residence': {'Country':'USA', 'City': 'New York'}},\n",
    "  {'Name': 'Jose', 'Age': '44', 'Residence': {'Country':'Spain', 'City': 'Madrid'}},\n",
    "  {'Name': 'Anne', 'Age': '29', 'Residence': {'Country':'UK', 'City': 'England'}},\n",
    "  {'Name': 'Lee', 'Age': '35', 'Residence': {'Country':'Japan', 'City': 'Osaka'}}\n",
    "]\n",
    "\n",
    "print(json.dumps(dct_arr, sort_keys=False, indent=4))\n",
    "\n",
    "import yaml\n",
    "\n",
    "dct_arr = [\n",
    "  {'Name': 'John', 'Age': '23', 'Residence': {'Country':'USA', 'City': 'New York'}},\n",
    "  {'Name': 'Jose', 'Age': '44', 'Residence': {'Country':'Spain', 'City': 'Madrid'}},\n",
    "  {'Name': 'Anne', 'Age': '29', 'Residence': {'Country':'UK', 'City': 'England'}},\n",
    "  {'Name': 'Lee', 'Age': '35', 'Residence': {'Country':'Japan', 'City': 'Osaka'}}\n",
    "]\n",
    "print(yaml.dump(dct_arr, sort_keys=False, default_flow_style=False))"
   ]
  }
 ],
 "metadata": {
  "kernelspec": {
   "display_name": "Python 3",
   "language": "python",
   "name": "python3"
  },
  "language_info": {
   "codemirror_mode": {
    "name": "ipython",
    "version": 3
   },
   "file_extension": ".py",
   "mimetype": "text/x-python",
   "name": "python",
   "nbconvert_exporter": "python",
   "pygments_lexer": "ipython3",
   "version": "3.9.4"
  }
 },
 "nbformat": 4,
 "nbformat_minor": 5
}
