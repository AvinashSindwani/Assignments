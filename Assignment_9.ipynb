{
 "cells": [
  {
   "cell_type": "code",
   "execution_count": null,
   "id": "d8f3db58",
   "metadata": {},
   "outputs": [],
   "source": [
    "#1. To what does a relative path refer?\n",
    "\n",
    "#Ans: Relative path refered relative to current directory we are in starting with / only, root to current will be automatically added."
   ]
  },
  {
   "cell_type": "code",
   "execution_count": null,
   "id": "66c05c78",
   "metadata": {},
   "outputs": [],
   "source": [
    "#2. What does an absolute path start with your operating system?\n",
    "#Ans: Absolute path is the actual path where our files stored from root to till file.\n"
   ]
  },
  {
   "cell_type": "code",
   "execution_count": null,
   "id": "c40e20f6",
   "metadata": {},
   "outputs": [],
   "source": [
    "#3. What do the functions os.getcwd() and os.chdir() do?\n",
    "\n",
    "#Ans: getcwd() will return the current working directory while chdir is used for changing the directory."
   ]
  },
  {
   "cell_type": "code",
   "execution_count": null,
   "id": "60bfed88",
   "metadata": {},
   "outputs": [],
   "source": [
    "#4. What are the . and .. folders?\n",
    "\n",
    "#Ans: . refers to current foler while .. is the parent folders.\n",
    "\n"
   ]
  },
  {
   "cell_type": "code",
   "execution_count": 9,
   "id": "60668817",
   "metadata": {},
   "outputs": [
    {
     "name": "stdout",
     "output_type": "stream",
     "text": [
      "C:\\bgggacon\\eggs\n"
     ]
    }
   ],
   "source": [
    "#5. In C:\\bacon\\eggs\\spam.txt, which part is the dir name, and which part is the base name?\n",
    "#Ans: spam.txt is the basename bascially the last noted folder or file name, dirname refers to directory we are in.\n",
    "\n",
    "import os.path\n",
    "  \n",
    "# Path\n",
    "path = r'C:\\bgggacon\\eggs\\spam.text'\n",
    "\n",
    "basename = os.path.dirname(path)\n",
    "print(basename)\n"
   ]
  },
  {
   "cell_type": "code",
   "execution_count": null,
   "id": "a285533c",
   "metadata": {},
   "outputs": [],
   "source": [
    "#What are the three “mode” arguments that can be passed to the open() function?\n",
    "\n",
    "#Ans: 'r' for reading file\n",
    "    #'a' open file and append create file if not exists\n",
    "    #'w' open file for writing.\n",
    "    \n"
   ]
  },
  {
   "cell_type": "code",
   "execution_count": 27,
   "id": "ef22af7d",
   "metadata": {},
   "outputs": [
    {
     "data": {
      "text/plain": [
       "<_io.TextIOWrapper name='data1.txt' mode='w' encoding='cp1252'>"
      ]
     },
     "execution_count": 27,
     "metadata": {},
     "output_type": "execute_result"
    }
   ],
   "source": [
    "#What happens if an existing file is opened in write mode?\n",
    "#ans: File is created if not exists.\n",
    "\n",
    "import os.path\n",
    "open('data1.txt', 'w')\n"
   ]
  },
  {
   "cell_type": "code",
   "execution_count": 33,
   "id": "58beec39",
   "metadata": {},
   "outputs": [
    {
     "name": "stdout",
     "output_type": "stream",
     "text": [
      "fAFK\n",
      "SDFS\n",
      "SFS\n",
      "SDF\n",
      "SDF\n",
      "SDF\n",
      "SDF\n",
      "SD\n",
      "SDF\n",
      "SDF\n",
      "F\n",
      "SDF\n",
      "\n"
     ]
    }
   ],
   "source": [
    "#How do you tell the difference between read() and readlines()?\n",
    "#Ans: read will read whole file consider as string, readlines will read only the single line.\n",
    "import os.path\n",
    "with open('data.txt', 'r') as f:\n",
    "    line = f.read()\n",
    "    print(line)"
   ]
  },
  {
   "cell_type": "code",
   "execution_count": null,
   "id": "3bec8774",
   "metadata": {},
   "outputs": [],
   "source": [
    "#9. What data structure does a shelf value resemble?\n",
    "#Ans: shelf value resemble with dictionary and work like a dictionary methods.\n"
   ]
  }
 ],
 "metadata": {
  "kernelspec": {
   "display_name": "Python 3",
   "language": "python",
   "name": "python3"
  },
  "language_info": {
   "codemirror_mode": {
    "name": "ipython",
    "version": 3
   },
   "file_extension": ".py",
   "mimetype": "text/x-python",
   "name": "python",
   "nbconvert_exporter": "python",
   "pygments_lexer": "ipython3",
   "version": "3.8.8"
  }
 },
 "nbformat": 4,
 "nbformat_minor": 5
}
