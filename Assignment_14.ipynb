{
 "cells": [
  {
   "cell_type": "code",
   "execution_count": 26,
   "id": "f1637249",
   "metadata": {},
   "outputs": [],
   "source": [
    "#What does RGBA stand for?\n",
    "#ans: An RGBA value is a group of numbers that specify the amount of red, green, blue, and alpha.\n",
    "\n",
    "from PIL import Image\n",
    "\n",
    "png = Image.open(r'C:\\Users\\Avinash Sindwani\\Desktop\\900.png')\n",
    "png.load() # required for png.split()\n",
    "\n",
    "has_alpha = png.mode == 'RGBA'\n",
    "alpha = png.split()[-1]\n",
    "background = Image.new(\"RGB\", png.size, (255, 255, 255))\n",
    "png.putalpha(alpha)\n",
    "background.paste(png, mask=alpha) # 3 is the alpha channel\n",
    "background.save('foo.jpg', 'JPEG', quality=100)\n"
   ]
  },
  {
   "cell_type": "code",
   "execution_count": 2,
   "id": "97b742c3",
   "metadata": {},
   "outputs": [
    {
     "data": {
      "text/plain": [
       "<ImagingCore at 0x1a5065d82f0>"
      ]
     },
     "execution_count": 2,
     "metadata": {},
     "output_type": "execute_result"
    }
   ],
   "source": [
    "#From the Pillow module, how do you get the RGBA value of any images?\n",
    "from PIL import Image\n",
    "img = Image.open(r'C:\\Users\\Avinash Sindwani\\Desktop\\900.png')\n",
    "rgba = img.convert(\"RGBA\")\n",
    "datas = rgba.getdata()\n",
    "datas\n"
   ]
  },
  {
   "cell_type": "code",
   "execution_count": null,
   "id": "c9c5abd9",
   "metadata": {},
   "outputs": [],
   "source": [
    "#3. What is a box tuple, and how does it work?\n",
    "\n",
    "#Ans: Pillow is expecting a tuple of four integer coordinates that represent a rectangular region in an image \n",
    "\n",
    "#Left The x-coordinate of the leftmost edge of the box.\n",
    "\n",
    "#Top The y-coordinate of the top edge of the box.\n",
    "\n",
    "#Right The x-coordinate of one pixel to the right of the rightmost edge of the box. This integer must be greater than the left integer.\n",
    "\n",
    "#Bottom The y-coordinate of one pixel lower than the bottom edge of the box. This integer must be greater than the top integer.\n",
    "#Note that the box includes the left and top coordinates and goes up to but does not include the right and bottom coordinates. \n"
   ]
  },
  {
   "cell_type": "code",
   "execution_count": 4,
   "id": "5cd845d7",
   "metadata": {},
   "outputs": [
    {
     "data": {
      "text/plain": [
       "(268, 619)"
      ]
     },
     "execution_count": 4,
     "metadata": {},
     "output_type": "execute_result"
    }
   ],
   "source": [
    "#Use your image and load in notebook then, How can you find out the width and height of an Image object?\n",
    "#Ans: .size\n",
    "from PIL import Image\n",
    "img = Image.open(r'C:\\Users\\Avinash Sindwani\\Desktop\\900.png')\n",
    "img.size"
   ]
  },
  {
   "cell_type": "code",
   "execution_count": 5,
   "id": "ec322417",
   "metadata": {},
   "outputs": [],
   "source": [
    "#What method would you call to get Image object for a 100×100 image, excluding the lower-left quarter of it?\n",
    "#Ans crop method will be used here will crop 100x100 starting from 0 by default and passing right and bottom part of image.\n",
    "\n",
    "\n",
    "from PIL import Image\n",
    "im = Image.new('RGBA', (100, 200), 'purple')\n",
    "im.save('purpleImage.png')\n",
    "im2 = Image.new('RGBA', (20, 20))\n",
    "im2.save('transparentImage.png')"
   ]
  },
  {
   "cell_type": "code",
   "execution_count": null,
   "id": "2c6e215f",
   "metadata": {},
   "outputs": [],
   "source": [
    "#6. After making changes to an Image object, how could you save it as an image file?\n",
    "#Ans: .save method is used to save the image\n"
   ]
  },
  {
   "cell_type": "code",
   "execution_count": null,
   "id": "f834b272",
   "metadata": {},
   "outputs": [],
   "source": [
    "#7.What module contains Pillow’s shape-drawing code?\n",
    "\n",
    "#Ans: ImageDraw"
   ]
  },
  {
   "cell_type": "code",
   "execution_count": null,
   "id": "2173bb66",
   "metadata": {},
   "outputs": [],
   "source": [
    "#8. Image objects do not have drawing methods. What kind of object does? How do you get this kind of object?\n",
    "#Ans ImageDraw.Draw() from image draw modules can get.\n"
   ]
  }
 ],
 "metadata": {
  "kernelspec": {
   "display_name": "Python 3",
   "language": "python",
   "name": "python3"
  },
  "language_info": {
   "codemirror_mode": {
    "name": "ipython",
    "version": 3
   },
   "file_extension": ".py",
   "mimetype": "text/x-python",
   "name": "python",
   "nbconvert_exporter": "python",
   "pygments_lexer": "ipython3",
   "version": "3.8.8"
  }
 },
 "nbformat": 4,
 "nbformat_minor": 5
}
