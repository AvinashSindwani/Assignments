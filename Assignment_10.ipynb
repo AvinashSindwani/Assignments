{
 "cells": [
  {
   "cell_type": "code",
   "execution_count": 9,
   "id": "5a0b5d74",
   "metadata": {},
   "outputs": [
    {
     "data": {
      "text/plain": [
       "'C:\\\\Users\\\\Avinash Sindwani\\\\Desktop\\\\data.txt'"
      ]
     },
     "execution_count": 9,
     "metadata": {},
     "output_type": "execute_result"
    }
   ],
   "source": [
    "#1. How do you distinguish between shutil.copy() and shutil.copytree()?\n",
    "#Ans: Shutil.copy() copie the file while shutil.copytree() copies the entire folder.\n",
    "\n",
    "import shutil\n",
    "\n",
    "shutil.copy('data.txt','C:\\\\Users\\\\Avinash Sindwani\\\\Desktop\\\\')\n",
    "shutil.copytree('C:\\\\Users\\\\Avinash Sindwani\\\\Desktop\\\\New folder\\\\','C:\\\\Users\\\\Avinash Sindwani\\\\Desktop\\\\New folder2\\\\')\n"
   ]
  },
  {
   "cell_type": "code",
   "execution_count": null,
   "id": "58dcb754",
   "metadata": {},
   "outputs": [],
   "source": [
    "#What function is used to rename files??\n",
    "\n",
    "#Ans: rename function used along with os.rename()\n",
    "\n"
   ]
  },
  {
   "cell_type": "code",
   "execution_count": null,
   "id": "c5fff930",
   "metadata": {},
   "outputs": [],
   "source": [
    "#What is the difference between the delete functions in the send2trash and shutil modules?\n",
    "\n",
    "#Ans: delete function is sendtotrash used to send in recyle bin, while delete in shutil module will delete file permanently.\n",
    "\n",
    "import send2trash\n",
    "send2trash.send2trash(\"data.txt\")\n"
   ]
  },
  {
   "cell_type": "code",
   "execution_count": 19,
   "id": "b5904072",
   "metadata": {},
   "outputs": [
    {
     "name": "stdout",
     "output_type": "stream",
     "text": [
      "File Name                                             Modified             Size\n",
      "Flask_Assignment/.idea/                        2021-06-02 09:19:10            0\n",
      "Flask_Assignment/.idea/.gitignore              2021-05-30 12:51:16           50\n",
      "Flask_Assignment/.idea/Flask_Assignment.iml    2021-05-30 20:07:44          343\n",
      "Flask_Assignment/.idea/inspectionProfiles/     2021-05-30 12:51:16            0\n",
      "Flask_Assignment/.idea/inspectionProfiles/profiles_settings.xml 2021-05-30 12:51:16          174\n",
      "Flask_Assignment/.idea/misc.xml                2021-05-30 13:12:54          317\n",
      "Flask_Assignment/.idea/modules.xml             2021-05-30 12:51:16          291\n",
      "Flask_Assignment/.idea/workspace.xml           2021-06-02 09:19:10         5966\n",
      "Flask_Assignment/Assignment_api.py             2021-06-02 11:34:26        16618\n",
      "Flask_Assignment/config_json.json              2021-06-02 09:56:10          488\n",
      "Flask_Assignment/log_file.txt                  2021-06-02 11:36:20      2083818\n",
      "Flask_Assignment/secure-connect-test.zip       2021-05-23 13:26:02        12290\n",
      "Flask_Assignment/static/                       2021-06-02 08:59:36            0\n",
      "Flask_Assignment/static/body_background.jpg    2021-06-01 13:35:14       326191\n",
      "Flask_Assignment/static/jQ.js                  2021-06-02 08:59:36         3185\n",
      "Flask_Assignment/static/style.css              2021-06-01 21:33:58          292\n",
      "Flask_Assignment/templates/                    2021-06-02 08:36:52            0\n",
      "Flask_Assignment/templates/data_base.html      2021-06-02 08:36:52         2545\n",
      "Flask_Assignment/test1.csv                     2021-05-31 13:19:32           47\n",
      "Extracting all the files now...\n",
      "Done!\n"
     ]
    }
   ],
   "source": [
    "#4.ZipFile objects have a close() method just like File objects’ close() method. What ZipFile method is\n",
    "#equivalent to File objects’ open() method?\n",
    "\n",
    "# importing required modules\n",
    "from zipfile import ZipFile\n",
    "  \n",
    "# specifying the zip file name\n",
    "file_name = r\"C:\\Users\\Avinash Sindwani\\Desktop\\Flask_Assignment.zip\"\n",
    "  \n",
    "# opening the zip file in READ mode\n",
    "with ZipFile(file_name, 'r') as zip:\n",
    "    # printing all the contents of the zip file\n",
    "    zip.printdir()\n",
    "  \n",
    "    # extracting all the files\n",
    "    print('Extracting all the files now...')\n",
    "    zip.extractall()\n",
    "    print('Done!')\n",
    "\n"
   ]
  },
  {
   "cell_type": "code",
   "execution_count": 25,
   "id": "94c12001",
   "metadata": {},
   "outputs": [],
   "source": [
    "#Create a programme that searches a folder tree for files with a certain file extension (such as .pdf\n",
    "#or .jpg). Copy these files from whatever location they are in to a new folder.\n",
    "#Ans:\n",
    "\n",
    "import os\n",
    "import shutil\n",
    "path=r'C:\\Users\\Avinash Sindwani\\Desktop\\ineuron\\Books'\n",
    "for file in os.listdir(path):\n",
    "    if file.endswith(\".pdf\"):\n",
    "        shutil.copy(path+'\\\\'+file,'C:\\\\Users\\\\Avinash Sindwani\\\\Desktop\\\\New Folder')"
   ]
  },
  {
   "cell_type": "code",
   "execution_count": null,
   "id": "bd633741",
   "metadata": {},
   "outputs": [],
   "source": []
  }
 ],
 "metadata": {
  "kernelspec": {
   "display_name": "Python 3",
   "language": "python",
   "name": "python3"
  },
  "language_info": {
   "codemirror_mode": {
    "name": "ipython",
    "version": 3
   },
   "file_extension": ".py",
   "mimetype": "text/x-python",
   "name": "python",
   "nbconvert_exporter": "python",
   "pygments_lexer": "ipython3",
   "version": "3.8.8"
  }
 },
 "nbformat": 4,
 "nbformat_minor": 5
}
