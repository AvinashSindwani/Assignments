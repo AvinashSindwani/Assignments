{
 "cells": [
  {
   "cell_type": "code",
   "execution_count": null,
   "id": "c0030d2a",
   "metadata": {},
   "outputs": [],
   "source": [
    "#1. What are escape characters, and how do you use them?\n",
    "#Ans: Backslash \"\\\" is a special character is also termed as escape character, it is used to add tab as '\\t' , new line as '\\n' and as '\\r' for carriage return \n",
    "# and sometime used to ignore some chracters to consider them as string for e.g. ''' if we have to use ' inside two single quotes by default we are not allowed \n"
   ]
  },
  {
   "cell_type": "code",
   "execution_count": null,
   "id": "64ec2dc6",
   "metadata": {},
   "outputs": [],
   "source": [
    "#2. What do the escape characters n and t stand for?\n",
    "#Ans: n stands for new line and t stands for tab. \n"
   ]
  },
  {
   "cell_type": "code",
   "execution_count": null,
   "id": "f0e473c6",
   "metadata": {},
   "outputs": [],
   "source": [
    "#3. What is the way to include backslash characters in a string?\n",
    "#Ans: for e.g str= 'it's Avinash' by default this raise an error to make ot correct we use \"\\\" before '.\n",
    "# str= 'it\\'s Avinash'"
   ]
  },
  {
   "cell_type": "code",
   "execution_count": 1,
   "id": "f1d7db44",
   "metadata": {},
   "outputs": [
    {
     "ename": "SyntaxError",
     "evalue": "invalid syntax (<ipython-input-1-a40a3400bcad>, line 5)",
     "output_type": "error",
     "traceback": [
      "\u001b[1;36m  File \u001b[1;32m\"<ipython-input-1-a40a3400bcad>\"\u001b[1;36m, line \u001b[1;32m5\u001b[0m\n\u001b[1;33m    str= 'Howl's Moving Castle'\u001b[0m\n\u001b[1;37m               ^\u001b[0m\n\u001b[1;31mSyntaxError\u001b[0m\u001b[1;31m:\u001b[0m invalid syntax\n"
     ]
    }
   ],
   "source": [
    "#4. The string \"Howl's Moving Castle\" is a correct value. Why isn't the single quote character in the\n",
    "#word Howl's not escaped a problem?\n",
    "#Ans: it wil create problem if string starts and end with single quote ' in current case we have used double quotes \"\".\n",
    "\n",
    "str= 'Howl's Moving Castle'\n",
    "print(str)\n"
   ]
  },
  {
   "cell_type": "code",
   "execution_count": 10,
   "id": "b92a00b9",
   "metadata": {},
   "outputs": [
    {
     "name": "stdout",
     "output_type": "stream",
     "text": [
      "fsdfsd\n",
      "sdfsdf\n",
      "sdf\n",
      "sdf\n",
      "sdf\n",
      "sdf\n",
      "\n"
     ]
    }
   ],
   "source": [
    "#5. How do you write a string of newlines if you don't want to use the n character?\n",
    "#Ans: we can use triple quotes for this.\n",
    "str='''fsdfsd\n",
    "sdfsdf\n",
    "sdf\n",
    "sdf\n",
    "sdf\n",
    "sdf\n",
    "'''\n",
    "print(str)\n",
    "\n"
   ]
  },
  {
   "cell_type": "code",
   "execution_count": 11,
   "id": "33efea53",
   "metadata": {},
   "outputs": [
    {
     "data": {
      "text/plain": [
       "'Hello'"
      ]
     },
     "execution_count": 11,
     "metadata": {},
     "output_type": "execute_result"
    }
   ],
   "source": [
    "#6. What are the values of the given expressions?\n",
    "#Ans: 'Hello, world!'[1]= 'e'\n",
    "#'Hello, world!'[0:5] = 'Hello'\n",
    "#'Hello, world!'[:5]= 'Hello'\n",
    "#'Hello, world!'[3:]='lo, world!'\n"
   ]
  },
  {
   "cell_type": "code",
   "execution_count": 16,
   "id": "3edb4d08",
   "metadata": {},
   "outputs": [
    {
     "data": {
      "text/plain": [
       "'hello'"
      ]
     },
     "execution_count": 16,
     "metadata": {},
     "output_type": "execute_result"
    }
   ],
   "source": [
    "#7. What are the values of the following expressions?\n",
    "#'Hello'.upper()= 'HELLO'\n",
    "#'Hello'.upper().isupper()= True\n",
    "#'Hello'.upper().lower() ='hello' \n"
   ]
  },
  {
   "cell_type": "code",
   "execution_count": 18,
   "id": "4fece23c",
   "metadata": {},
   "outputs": [
    {
     "data": {
      "text/plain": [
       "['Remember,', 'remember,', 'the', 'fifth', 'of', 'July.']"
      ]
     },
     "execution_count": 18,
     "metadata": {},
     "output_type": "execute_result"
    }
   ],
   "source": [
    "#8. What are the values of the following expressions?\n",
    "#'Remember, remember, the fifth of July.'.split()=['Remember,','remember,','the','fifth','of','July.']\n",
    "#'-'.join('There can only one.'.split())= There-can-only-one.\n"
   ]
  },
  {
   "cell_type": "code",
   "execution_count": 31,
   "id": "e5df104e",
   "metadata": {},
   "outputs": [
    {
     "name": "stdout",
     "output_type": "stream",
     "text": [
      "###############################################################################Hey, there! what's up\n"
     ]
    }
   ],
   "source": [
    "#9. What are the methods for right-justifying, left-justifying, and centering a string?\n",
    "#Ans: ljust(),rjust(),center()\n",
    "\n",
    "str=\"Hey, there! what's up\"\n",
    "\n",
    "print(str.rjust(100,'#'))\n"
   ]
  },
  {
   "cell_type": "code",
   "execution_count": 38,
   "id": "8ed703db",
   "metadata": {},
   "outputs": [
    {
     "data": {
      "text/plain": [
       "'ffsfd sfsdf sdfsdf sds df sdfsd sdfsd'"
      ]
     },
     "execution_count": 38,
     "metadata": {},
     "output_type": "execute_result"
    }
   ],
   "source": [
    "#10. What is the best way to remove whitespace characters from the start or end?\n",
    "\n",
    "str=\"     ffsfd     sfsdf  sdfsdf  sds df   sdfsd   sdfsd\"\n",
    "\" \".join(str.split())"
   ]
  },
  {
   "cell_type": "code",
   "execution_count": null,
   "id": "ee85bd60",
   "metadata": {},
   "outputs": [],
   "source": []
  }
 ],
 "metadata": {
  "kernelspec": {
   "display_name": "Python 3",
   "language": "python",
   "name": "python3"
  },
  "language_info": {
   "codemirror_mode": {
    "name": "ipython",
    "version": 3
   },
   "file_extension": ".py",
   "mimetype": "text/x-python",
   "name": "python",
   "nbconvert_exporter": "python",
   "pygments_lexer": "ipython3",
   "version": "3.9.4"
  }
 },
 "nbformat": 4,
 "nbformat_minor": 5
}
