{
 "cells": [
  {
   "cell_type": "code",
   "execution_count": 2,
   "id": "2c74eafa",
   "metadata": {},
   "outputs": [
    {
     "name": "stdout",
     "output_type": "stream",
     "text": [
      "<class '__main__.Thing'>\n"
     ]
    }
   ],
   "source": [
    "#Make a class called Thing with no contents and print it. Then, create an object called example\n",
    "#from this class and also print it. Are the printed values the same or different?\n",
    "\n",
    "class Thing:\n",
    "    pass\n",
    "\n",
    "print(Thing)"
   ]
  },
  {
   "cell_type": "code",
   "execution_count": 7,
   "id": "365dee5b",
   "metadata": {},
   "outputs": [
    {
     "name": "stdout",
     "output_type": "stream",
     "text": [
      "abc\n"
     ]
    }
   ],
   "source": [
    "#2. Create a new class called Thing2 and add the value &#39;abc&#39; to the letters class attribute. Letters\n",
    "#should be printed.\n",
    "\n",
    "\n",
    "class Thing2:\n",
    "    letters= 'abc'\n",
    "\n",
    "print(Thing2.letters)"
   ]
  },
  {
   "cell_type": "code",
   "execution_count": 23,
   "id": "580c2dc3",
   "metadata": {},
   "outputs": [
    {
     "data": {
      "text/plain": [
       "'xyz'"
      ]
     },
     "execution_count": 23,
     "metadata": {},
     "output_type": "execute_result"
    }
   ],
   "source": [
    "#3. Make yet another class called, of course, Thing3. This time, assign the value &#39;xyz&#39; to an instance\n",
    "#(object) attribute called letters. Print letters. Do you need to make an object from the class to do\n",
    "#this?\n",
    "\n",
    "class Thing3:\n",
    "    def __init__(self):\n",
    "        self.letters='xyz'\n",
    "\n",
    "Thing3().letters\n",
    "\n",
    "ob=Thing3()\n",
    "ob.letters"
   ]
  },
  {
   "cell_type": "code",
   "execution_count": 30,
   "id": "168bd91e",
   "metadata": {},
   "outputs": [
    {
     "data": {
      "text/plain": [
       "1"
      ]
     },
     "execution_count": 30,
     "metadata": {},
     "output_type": "execute_result"
    }
   ],
   "source": [
    "#Create an Element class with the instance attributes name, symbol, and number. Create a class\n",
    "#object with the values &#39;Hydrogen,&#39; &#39;H,&#39; and 1.\n",
    "\n",
    "class Element:\n",
    "    def __init__(self,name,symbol,number):\n",
    "        self.name= name\n",
    "        self.symbol= symbol\n",
    "        self.number= number\n",
    "ob= Element('Hydrogen','H',1)   \n",
    "ob.number"
   ]
  },
  {
   "cell_type": "code",
   "execution_count": 61,
   "id": "c1d06fa5",
   "metadata": {},
   "outputs": [
    {
     "data": {
      "text/plain": [
       "1"
      ]
     },
     "execution_count": 61,
     "metadata": {},
     "output_type": "execute_result"
    }
   ],
   "source": [
    "#Make a dictionary with these keys and values: 'name': 'Hydrogen', 'symbol': 'H', 'number': 1. Then,\n",
    "#create an object called hydrogen from class Element using this dictionary.\n",
    "\n",
    "\n",
    "cl= {\n",
    "    'name': 'Hydrogen',\n",
    "    'symbol': 'H',\n",
    "    'number': 1\n",
    "}\n",
    "\n",
    "class Element:\n",
    "    def __init__(self,dictionary):\n",
    "        for i,j in dictionary.items():\n",
    "            setattr(self,i,j)\n",
    "hydrogen= Element(cl)\n",
    "hydrogen.number"
   ]
  },
  {
   "cell_type": "code",
   "execution_count": 76,
   "id": "5012d363",
   "metadata": {},
   "outputs": [],
   "source": [
    "#6. For the Element class, define a method called dump() that prints the values of the object’s\n",
    "#attributes (name, symbol, and number). Create the hydrogen object from this new definition and\n",
    "#use dump() to print its attributes.\n",
    "class Element:\n",
    "    def __init__(self,name,symbol,number):\n",
    "        self.name= name\n",
    "        self.symbol= symbol\n",
    "        self.number= number\n",
    "        \n",
    "    def __str__(self):\n",
    "        return 'Name: '+self.name+'\\nSymbol: '+ self.symbol + '\\nNumber: '+str(self.number)\n",
    "\n",
    "hydrogen= Element('hydro','Kaka',2)\n"
   ]
  },
  {
   "cell_type": "code",
   "execution_count": 77,
   "id": "808fc8fc",
   "metadata": {},
   "outputs": [
    {
     "name": "stdout",
     "output_type": "stream",
     "text": [
      "Name: hydro\n",
      "Symbol: Kaka\n",
      "Number: 2\n"
     ]
    }
   ],
   "source": [
    "#Call print(hydrogen). In the definition of Element, change the name of method dump to __str__,\n",
    "#create a new hydrogen object, and call print(hydrogen) again.\n",
    "\n",
    "print(hydrogen)\n"
   ]
  },
  {
   "cell_type": "code",
   "execution_count": 87,
   "id": "d999fc07",
   "metadata": {},
   "outputs": [
    {
     "data": {
      "text/plain": [
       "'Huss'"
      ]
     },
     "execution_count": 87,
     "metadata": {},
     "output_type": "execute_result"
    }
   ],
   "source": [
    "#Modify Element to make the attributes name, symbol, and number private. Define a getter\n",
    "#property for each to return its value.\n",
    "\n",
    "class Element:\n",
    "    def __init__(self,name,symbol,number):\n",
    "        self.__name= name\n",
    "        self.__symbol= symbol\n",
    "        self.__number= number\n",
    "\n",
    "ob= Element('Huss','kis',4)\n",
    "ob._Element__name\n"
   ]
  },
  {
   "cell_type": "code",
   "execution_count": 113,
   "id": "8f434757",
   "metadata": {},
   "outputs": [
    {
     "data": {
      "text/plain": [
       "'Octothorpe'"
      ]
     },
     "execution_count": 113,
     "metadata": {},
     "output_type": "execute_result"
    }
   ],
   "source": [
    "#Define three classes: Bear, Rabbit, and Octothorpe. For each, define only one method: eats(). This\n",
    "#should return 'berries' (Bear), 'clover' (Rabbit), or 'campers' (Octothorpe). Create one object from\n",
    "#each and print what it eats.\n",
    "\n",
    "class Bear:\n",
    "    def eats():\n",
    "        return 'berries'\n",
    "class Rabbit:\n",
    "    def eats():\n",
    "        return 'Rabbit'\n",
    "class campers:\n",
    "    def eats():\n",
    "        return 'Octothorpe'\n",
    "nn='campers'\n",
    "ob=eval(nn)\n",
    "ob.eats()"
   ]
  },
  {
   "cell_type": "code",
   "execution_count": 19,
   "id": "ec86e13d",
   "metadata": {},
   "outputs": [
    {
     "name": "stdout",
     "output_type": "stream",
     "text": [
      "Laser: disintegrate\n",
      "Claw: crush\n",
      "SmartPhone: ring\n"
     ]
    },
    {
     "data": {
      "text/plain": [
       "<__main__.Robot at 0x1b144ff23d0>"
      ]
     },
     "execution_count": 19,
     "metadata": {},
     "output_type": "execute_result"
    }
   ],
   "source": [
    "#Define these classes: Laser, Claw, and SmartPhone. Each has only one method: does(). This\n",
    "#returns 'disintegrate' (Laser), 'crush' (Claw), or 'ring' (SmartPhone). Then, define the class Robot that\n",
    "#has one instance (object) of each of these. Define a does() method for the Robot that prints what its\n",
    "#component objects do.\n",
    "\n",
    "class Laser:\n",
    "    def does(self):\n",
    "        return 'disintegrate'\n",
    "class Claw:\n",
    "    def does(self):\n",
    "        return 'crush'\n",
    "class SmartPhone:\n",
    "    def does(self):\n",
    "        return 'ring'\n",
    "    \n",
    "class Robot(Laser,Claw,SmartPhone):\n",
    "    def does(self):\n",
    "        print(\"Laser: \"+Laser.does(self))\n",
    "        print(\"Claw: \"+Claw.does(self))\n",
    "        print(\"SmartPhone: \"+ SmartPhone.does(self))\n",
    "ob= Robot()\n",
    "ob.does()\n",
    "ob"
   ]
  },
  {
   "cell_type": "code",
   "execution_count": 13,
   "id": "1dcacc44",
   "metadata": {},
   "outputs": [
    {
     "name": "stdout",
     "output_type": "stream",
     "text": [
      "Hi\n",
      "Hello\n",
      "Hey\n"
     ]
    }
   ],
   "source": [
    "class A:\n",
    "    def say_hello(self):\n",
    "        print(\"Hi\")\n",
    "\n",
    "class B:\n",
    "    def say_hello(self):\n",
    "        print(\"Hello\")\n",
    "\n",
    "class C(A, B):\n",
    "    def say_hello(self):\n",
    "        A.say_hello(self)\n",
    "        B.say_hello(self)\n",
    "        print(\"Hey\")\n",
    "        \n",
    "ob=C()\n",
    "ob.say_hello()"
   ]
  },
  {
   "cell_type": "code",
   "execution_count": null,
   "id": "2b1574a5",
   "metadata": {},
   "outputs": [],
   "source": []
  }
 ],
 "metadata": {
  "kernelspec": {
   "display_name": "Python 3",
   "language": "python",
   "name": "python3"
  },
  "language_info": {
   "codemirror_mode": {
    "name": "ipython",
    "version": 3
   },
   "file_extension": ".py",
   "mimetype": "text/x-python",
   "name": "python",
   "nbconvert_exporter": "python",
   "pygments_lexer": "ipython3",
   "version": "3.8.8"
  }
 },
 "nbformat": 4,
 "nbformat_minor": 5
}
