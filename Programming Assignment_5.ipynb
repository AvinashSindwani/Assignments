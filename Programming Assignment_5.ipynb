{
 "cells": [
  {
   "cell_type": "code",
   "execution_count": 38,
   "id": "fef0e673",
   "metadata": {},
   "outputs": [
    {
     "data": {
      "text/plain": [
       "12"
      ]
     },
     "execution_count": 38,
     "metadata": {},
     "output_type": "execute_result"
    }
   ],
   "source": [
    "#1. Write a Python Program to Find LCM?\n",
    "\n",
    "def aLCM(a,b):\n",
    "    greater = max(a,b)\n",
    "    while True:\n",
    "        if greater % a == 0 and greater % b == 0:\n",
    "            lcm=greater\n",
    "            break\n",
    "        greater += 1\n",
    "    return lcm\n",
    "aLCM(6,4)     "
   ]
  },
  {
   "cell_type": "code",
   "execution_count": 16,
   "id": "ee3e6dff",
   "metadata": {},
   "outputs": [
    {
     "data": {
      "text/plain": [
       "7"
      ]
     },
     "execution_count": 16,
     "metadata": {},
     "output_type": "execute_result"
    }
   ],
   "source": [
    "#2. Write a Python Program to Find HCF?\n",
    "\n",
    "def aHCF(a,b):\n",
    "    min1 = min(a,b)\n",
    "    for i in range(1,min1+1):\n",
    "        if a % i == 0 and b % i==0:\n",
    "            hcf=i  \n",
    "            \n",
    "    return hcf\n",
    "aHCF(14,21)"
   ]
  },
  {
   "cell_type": "code",
   "execution_count": 20,
   "id": "e6616c7d",
   "metadata": {},
   "outputs": [
    {
     "name": "stdout",
     "output_type": "stream",
     "text": [
      "0b101011001 is an binary number of 345\n",
      "0o531 is an oct number of 345\n",
      "0x159 is an hexadecimal number of 345\n"
     ]
    }
   ],
   "source": [
    "#3. Write a Python Program to Convert Decimal to Binary, Octal and Hexadecimal?\n",
    "\n",
    "num= 345\n",
    "\n",
    "print(bin(num)+\" is an binary number of \"+str(num))\n",
    "print(oct(num)+\" is an oct number of \"+str(num))\n",
    "print(hex(num)+\" is an hexadecimal number of \"+str(num))"
   ]
  },
  {
   "cell_type": "code",
   "execution_count": 38,
   "id": "817d448b",
   "metadata": {},
   "outputs": [
    {
     "data": {
      "text/plain": [
       "'a'"
      ]
     },
     "execution_count": 38,
     "metadata": {},
     "output_type": "execute_result"
    }
   ],
   "source": [
    "#4. Write a Python Program To Find ASCII value of a character?\n",
    "ord('h')\n",
    "ord('a')\n",
    "chr(104)\n",
    "chr(97)"
   ]
  },
  {
   "cell_type": "code",
   "execution_count": 43,
   "id": "5b1f018b",
   "metadata": {},
   "outputs": [
    {
     "name": "stdout",
     "output_type": "stream",
     "text": [
      "8\n",
      "12\n",
      "3.0\n",
      "4\n"
     ]
    }
   ],
   "source": [
    "#5. Write a Python Program to Make a Simple Calculator with 4 basic mathematical operations?\n",
    "\n",
    "def add(a,b):\n",
    "    return sum([a,b])\n",
    "def mul(a,b):\n",
    "    return a*b\n",
    "def div(a,b):\n",
    "    return a/b\n",
    "def dif(a,b):\n",
    "    return a-b\n",
    "\n",
    "print(add(6,2))\n",
    "print(mul(6,2))\n",
    "print(div(6,2))\n",
    "print(dif(6,2))"
   ]
  },
  {
   "cell_type": "code",
   "execution_count": null,
   "id": "d0985811",
   "metadata": {},
   "outputs": [],
   "source": []
  }
 ],
 "metadata": {
  "kernelspec": {
   "display_name": "Python 3",
   "language": "python",
   "name": "python3"
  },
  "language_info": {
   "codemirror_mode": {
    "name": "ipython",
    "version": 3
   },
   "file_extension": ".py",
   "mimetype": "text/x-python",
   "name": "python",
   "nbconvert_exporter": "python",
   "pygments_lexer": "ipython3",
   "version": "3.9.4"
  }
 },
 "nbformat": 4,
 "nbformat_minor": 5
}
