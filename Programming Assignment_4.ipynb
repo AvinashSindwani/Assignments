{
 "cells": [
  {
   "cell_type": "code",
   "execution_count": 3,
   "id": "e6394ba0",
   "metadata": {},
   "outputs": [
    {
     "data": {
      "text/plain": [
       "120"
      ]
     },
     "execution_count": 3,
     "metadata": {},
     "output_type": "execute_result"
    }
   ],
   "source": [
    "#1. Write a Python Program to Find the Factorial of a Number?\n",
    "\n",
    "def fact(n):\n",
    "    mul=1\n",
    "    for i in range(1,(n+1)):\n",
    "        mul *= i \n",
    "    return mul\n",
    "fact(5)"
   ]
  },
  {
   "cell_type": "code",
   "execution_count": 8,
   "id": "af5e16ac",
   "metadata": {},
   "outputs": [
    {
     "name": "stdout",
     "output_type": "stream",
     "text": [
      "16 x 1 = 16\n",
      "16 x 2 = 32\n",
      "16 x 3 = 48\n",
      "16 x 4 = 64\n",
      "16 x 5 = 80\n",
      "16 x 6 = 96\n",
      "16 x 7 = 112\n",
      "16 x 8 = 128\n",
      "16 x 9 = 144\n",
      "16 x 10 = 160\n",
      "16 x 11 = 176\n",
      "16 x 12 = 192\n",
      "16 x 13 = 208\n",
      "16 x 14 = 224\n",
      "16 x 15 = 240\n",
      "16 x 16 = 256\n"
     ]
    }
   ],
   "source": [
    "#2. Write a Python Program to Display the multiplication Table?\n",
    "def mulT(n):\n",
    "    for i in range(1,n+1):\n",
    "        print(str(n)+' x '+ str(i)+ ' = '+ str(n*i))\n",
    "mulT(16)"
   ]
  },
  {
   "cell_type": "code",
   "execution_count": 15,
   "id": "0b244f0d",
   "metadata": {},
   "outputs": [
    {
     "name": "stdout",
     "output_type": "stream",
     "text": [
      "1\n",
      "2\n",
      "3\n",
      "5\n",
      "8\n",
      "13\n",
      "21\n",
      "34\n",
      "55\n",
      "89\n",
      "144\n"
     ]
    },
    {
     "data": {
      "text/plain": [
       "[0, 1, 1, 2, 3, 5, 8, 13, 21, 34, 55, 89]"
      ]
     },
     "execution_count": 15,
     "metadata": {},
     "output_type": "execute_result"
    }
   ],
   "source": [
    "#Write a Python Program to Print the Fibonacci sequence?\n",
    "#prog1 n refers to number of fibnoci sequence series\n",
    "def fib(n):\n",
    "    l=[0,1]\n",
    "    for i in range(n):\n",
    "        if n > 2:\n",
    "            l.append(l[-1]+l[-2])\n",
    "        elif n==1:\n",
    "            l=[0]\n",
    "    return l\n",
    "\n",
    "#prog2 n refers to fibnoci sequence till n.\n",
    "\n",
    "def fib1(n):\n",
    "    l=[0,1]\n",
    "    for i in range(n):\n",
    "        if n > 2:\n",
    "            if (l[-1]+l[-2]) <= n:\n",
    "                l.append(l[-1]+l[-2])\n",
    "            else:\n",
    "                break\n",
    "    return l\n",
    "\n",
    "fib1(100)"
   ]
  },
  {
   "cell_type": "code",
   "execution_count": 27,
   "id": "6e0a563d",
   "metadata": {},
   "outputs": [
    {
     "name": "stdout",
     "output_type": "stream",
     "text": [
      "1\n",
      "9\n",
      "10\n",
      "It's not an Armstrong number\n"
     ]
    }
   ],
   "source": [
    "#4. Write a Python Program to Check Armstrong Number?\n",
    "def chkArm(n):\n",
    "    st = str(n)\n",
    "    sm=0\n",
    "    for i in st:\n",
    "        sm += int(i)**len(st)\n",
    "        print(sm)\n",
    "    if sm == n:\n",
    "        print(\"It's an Armstrong number\")\n",
    "    else:\n",
    "        print(\"It's not an Armstrong number\")\n",
    "\n",
    "chkArm(121)"
   ]
  },
  {
   "cell_type": "code",
   "execution_count": 38,
   "id": "a4e7b0fb",
   "metadata": {},
   "outputs": [
    {
     "name": "stdout",
     "output_type": "stream",
     "text": [
      "[1, 2, 3, 4, 5, 6, 7, 8, 9, 153, 370, 371]\n"
     ]
    }
   ],
   "source": [
    "#5. Write a Python Program to Find Armstrong Number in an Interval?\n",
    "def allArm(a,b):\n",
    "    l=[]\n",
    "    for i in range(a,b+1):\n",
    "        sm=0\n",
    "        st= str(i)\n",
    "        for j in st:\n",
    "            sm += int(j)**len(st)\n",
    "        if sm == i:\n",
    "            l.append(i)\n",
    "    return l\n",
    "print(allArm(1,400))"
   ]
  },
  {
   "cell_type": "code",
   "execution_count": 41,
   "id": "08cc2dee",
   "metadata": {},
   "outputs": [
    {
     "data": {
      "text/plain": [
       "306"
      ]
     },
     "execution_count": 41,
     "metadata": {},
     "output_type": "execute_result"
    }
   ],
   "source": [
    "#6. Write a Python Program to Find the Sum of Natural Numbers?\n",
    "def nSum(a,b):\n",
    "    sm=0\n",
    "    for i in range(a,b+1):\n",
    "        sm += int(i)\n",
    "    return sm\n",
    "nSum(20,31)"
   ]
  },
  {
   "cell_type": "code",
   "execution_count": null,
   "id": "9d2cef56",
   "metadata": {},
   "outputs": [],
   "source": []
  }
 ],
 "metadata": {
  "kernelspec": {
   "display_name": "Python 3",
   "language": "python",
   "name": "python3"
  },
  "language_info": {
   "codemirror_mode": {
    "name": "ipython",
    "version": 3
   },
   "file_extension": ".py",
   "mimetype": "text/x-python",
   "name": "python",
   "nbconvert_exporter": "python",
   "pygments_lexer": "ipython3",
   "version": "3.9.4"
  }
 },
 "nbformat": 4,
 "nbformat_minor": 5
}
