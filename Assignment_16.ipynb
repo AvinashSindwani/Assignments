{
 "cells": [
  {
   "cell_type": "code",
   "execution_count": 6,
   "id": "fe250f00",
   "metadata": {},
   "outputs": [
    {
     "name": "stdout",
     "output_type": "stream",
     "text": [
      "Enter your year of birth: 1990\n"
     ]
    },
    {
     "data": {
      "text/plain": [
       "[1990, 1991, 1992, 1993, 1994, 1995]"
      ]
     },
     "execution_count": 6,
     "metadata": {},
     "output_type": "execute_result"
    }
   ],
   "source": [
    "#Create a list called years_list, starting with the year of your birth, and each year thereafter until the year of your fifth birthday. For example, if you were born in 1980. the list would be years_list = \n",
    "#[1980, 1981, 1982, 1983, 1984, 1985].\n",
    "\n",
    "Birth_year= int(input('Enter your year of birth: '))\n",
    "years_list = [i for i in range(Birth_year, Birth_year+6)]\n",
    "years_list\n"
   ]
  },
  {
   "cell_type": "code",
   "execution_count": 7,
   "id": "c5f5d3c9",
   "metadata": {},
   "outputs": [
    {
     "data": {
      "text/plain": [
       "1993"
      ]
     },
     "execution_count": 7,
     "metadata": {},
     "output_type": "execute_result"
    }
   ],
   "source": [
    "#In which year in years_list was your third birthday? Remember, you were 0 years of age for your first year.\n",
    "years_list[3]\n"
   ]
  },
  {
   "cell_type": "code",
   "execution_count": 8,
   "id": "93ffeacf",
   "metadata": {},
   "outputs": [
    {
     "data": {
      "text/plain": [
       "1990"
      ]
     },
     "execution_count": 8,
     "metadata": {},
     "output_type": "execute_result"
    }
   ],
   "source": [
    "#3.In the years list, which year were you the oldest?\n",
    "years_list[0]\n"
   ]
  },
  {
   "cell_type": "code",
   "execution_count": 10,
   "id": "c742ffbb",
   "metadata": {},
   "outputs": [
    {
     "data": {
      "text/plain": [
       "['mozzarella', 'cinderella', 'salmonella']"
      ]
     },
     "execution_count": 10,
     "metadata": {},
     "output_type": "execute_result"
    }
   ],
   "source": [
    "#Make a list called things with these three strings as elements: 'mozzarella', 'cinderella', 'salmonella'.\n",
    "things= ['mozzarella', 'cinderella', 'salmonella']\n",
    "\n",
    "things"
   ]
  },
  {
   "cell_type": "code",
   "execution_count": 15,
   "id": "7dac0068",
   "metadata": {},
   "outputs": [
    {
     "data": {
      "text/plain": [
       "['MOZZARELLA', 'CINDERELLA', 'SALMONELLA']"
      ]
     },
     "execution_count": 15,
     "metadata": {},
     "output_type": "execute_result"
    }
   ],
   "source": [
    "#5. Capitalize the element in things that refers to a person and then print the list. Did it change the element in the list?\n",
    "\n",
    "person = [i.upper() for i in things]\n",
    "person"
   ]
  },
  {
   "cell_type": "code",
   "execution_count": 21,
   "id": "d83713b6",
   "metadata": {},
   "outputs": [],
   "source": [
    "#Make a surprise list with the elements &quot;Groucho,&quot; &quot;Chico,&quot; and &quot;Harpo.&quot;\n",
    "surprise= [\"Groucho\",\"Chico\",\"Harpo\"]\n",
    "\n"
   ]
  },
  {
   "cell_type": "code",
   "execution_count": 30,
   "id": "ac374685",
   "metadata": {},
   "outputs": [
    {
     "data": {
      "text/plain": [
       "'OPRAH'"
      ]
     },
     "execution_count": 30,
     "metadata": {},
     "output_type": "execute_result"
    }
   ],
   "source": [
    "#Lowercase the last element of the surprise list, reverse it, and then capitalize it.\n",
    "\n",
    "spL= surprise[-1].lower()\n",
    "spL= spL[-1::-1].upper()\n",
    "spL"
   ]
  },
  {
   "cell_type": "code",
   "execution_count": 48,
   "id": "f3e5a319",
   "metadata": {},
   "outputs": [
    {
     "data": {
      "text/plain": [
       "{'dog': 'chien', 'cat': 'chat', 'walrus': 'morse'}"
      ]
     },
     "execution_count": 48,
     "metadata": {},
     "output_type": "execute_result"
    }
   ],
   "source": [
    "#Make an English-to-French dictionary called e2f and print it. Here are your starter words: dog is chien, cat is chat, and walrus is morse.\n",
    "e2f={\n",
    "    'dog': 'chien',\n",
    "    'cat': 'chat',\n",
    "    'walrus': 'morse'\n",
    "}\n",
    "\n",
    "e2f\n"
   ]
  },
  {
   "cell_type": "code",
   "execution_count": 49,
   "id": "d829ee0e",
   "metadata": {},
   "outputs": [
    {
     "data": {
      "text/plain": [
       "'morse'"
      ]
     },
     "execution_count": 49,
     "metadata": {},
     "output_type": "execute_result"
    }
   ],
   "source": [
    "#Write the French word for walrus in your three-word dictionary e2f.\n",
    "e2f['walrus']\n"
   ]
  },
  {
   "cell_type": "code",
   "execution_count": 51,
   "id": "392a4269",
   "metadata": {},
   "outputs": [
    {
     "data": {
      "text/plain": [
       "{'chien': 'dog', 'chat': 'cat', 'morse': 'walrus'}"
      ]
     },
     "execution_count": 51,
     "metadata": {},
     "output_type": "execute_result"
    }
   ],
   "source": [
    "#Make a French-to-English dictionary called f2e from e2f. Use the items method.\n",
    "f2e={}\n",
    "for i in e2f.items():\n",
    "    f2e[i[1]] = i[0]\n",
    "f2e"
   ]
  },
  {
   "cell_type": "code",
   "execution_count": 52,
   "id": "c9722f93",
   "metadata": {},
   "outputs": [
    {
     "data": {
      "text/plain": [
       "'dog'"
      ]
     },
     "execution_count": 52,
     "metadata": {},
     "output_type": "execute_result"
    }
   ],
   "source": [
    "#Print the English version of the French word chien using f2e.\n",
    "f2e['chien']\n"
   ]
  },
  {
   "cell_type": "code",
   "execution_count": 61,
   "id": "5c0f9995",
   "metadata": {},
   "outputs": [
    {
     "name": "stdout",
     "output_type": "stream",
     "text": [
      "{'dog', 'walrus', 'cat'}\n"
     ]
    }
   ],
   "source": [
    "#Make and print a set of English words from the keys in e2f.\n",
    "st=set()\n",
    "for i in e2f.keys():\n",
    "    st.add(i)\n",
    "print(st)"
   ]
  },
  {
   "cell_type": "code",
   "execution_count": 65,
   "id": "424496be",
   "metadata": {},
   "outputs": [
    {
     "data": {
      "text/plain": [
       "['Henri', 'Grumpy', 'Lucy']"
      ]
     },
     "execution_count": 65,
     "metadata": {},
     "output_type": "execute_result"
    }
   ],
   "source": [
    "#Make a multilevel dictionary called life. Use these strings for the topmost keys: 'animals', 'plants',\n",
    "#and 'other'. Make the 'animals' key refer to another dictionary with the keys 'cats', 'octopi', and\n",
    "#'emus'. Make the 'cats' key refer to a list of strings with the values 'Henri', 'Grumpy', and 'Lucy'.\n",
    "#Make all the other keys refer to empty dictionaries.\n",
    "\n",
    "life={\n",
    "     'animals':{ \n",
    "         'cats': ['Henri', 'Grumpy','Lucy'],\n",
    "         'octopi':{},\n",
    "         'emus': {}\n",
    "         } ,\n",
    "     'plants':{},\n",
    "     'other':{}\n",
    "}\n",
    "life['animals']['cats']"
   ]
  },
  {
   "cell_type": "code",
   "execution_count": 66,
   "id": "0f602c56",
   "metadata": {},
   "outputs": [
    {
     "name": "stdout",
     "output_type": "stream",
     "text": [
      "animals\n",
      "plants\n",
      "other\n"
     ]
    }
   ],
   "source": [
    "#Print the top-level keys of life.\n",
    "\n",
    "for i in life.keys():\n",
    "    print(i)\n"
   ]
  },
  {
   "cell_type": "code",
   "execution_count": 71,
   "id": "68878287",
   "metadata": {},
   "outputs": [
    {
     "name": "stdout",
     "output_type": "stream",
     "text": [
      "cats\n",
      "octopi\n",
      "emus\n"
     ]
    }
   ],
   "source": [
    "#Print the keys for life['animals'].\n",
    "if type(life['animals'])==dict:\n",
    "    for i in life['animals'].keys():\n",
    "        print(i)\n"
   ]
  },
  {
   "cell_type": "code",
   "execution_count": 72,
   "id": "0446aa6b",
   "metadata": {},
   "outputs": [
    {
     "data": {
      "text/plain": [
       "['Henri', 'Grumpy', 'Lucy']"
      ]
     },
     "execution_count": 72,
     "metadata": {},
     "output_type": "execute_result"
    }
   ],
   "source": [
    "#Print the values for life['animals']['cats']\n",
    "life['animals']['cats']\n"
   ]
  },
  {
   "cell_type": "code",
   "execution_count": null,
   "id": "69c581ed",
   "metadata": {},
   "outputs": [],
   "source": []
  }
 ],
 "metadata": {
  "kernelspec": {
   "display_name": "Python 3",
   "language": "python",
   "name": "python3"
  },
  "language_info": {
   "codemirror_mode": {
    "name": "ipython",
    "version": 3
   },
   "file_extension": ".py",
   "mimetype": "text/x-python",
   "name": "python",
   "nbconvert_exporter": "python",
   "pygments_lexer": "ipython3",
   "version": "3.8.8"
  }
 },
 "nbformat": 4,
 "nbformat_minor": 5
}
