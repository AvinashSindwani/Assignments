{
 "cells": [
  {
   "cell_type": "code",
   "execution_count": null,
   "metadata": {},
   "outputs": [],
   "source": [
    "#Q1. In the below elements which of them are values or an expression? eg:- values can be integer or string and expressions will be mathematical operators.\n",
    "\n",
    "Ans: \n",
    "*: Expression  \n",
    "'hello': String\n",
    "-87.8: integer\n",
    "- : Expression\n",
    "/ : Expression\n",
    "+: Expression\n",
    "6 : Integer"
   ]
  },
  {
   "cell_type": "code",
   "execution_count": null,
   "metadata": {},
   "outputs": [],
   "source": [
    "#Q2. What is the difference between string and variable?\n",
    "\n",
    "Ans:\n",
    "String is value/word/statement noted in signle or double quotes and variable is name assigned to that value to get that data anywhere in program.\n",
    "\n",
    "for e.g.\n",
    "var= \"Avinash\"\n",
    "\n",
    "var is variable here.\n",
    "Avinash is string here."
   ]
  },
  {
   "cell_type": "code",
   "execution_count": null,
   "metadata": {},
   "outputs": [],
   "source": [
    "#Q3. Describe three different data types.\n",
    "Ans:\n",
    "1. Integer: Data present in numerical form used for mathematical calculations could be known as integer.\n",
    "2. String: Data present in word or alphanumeric form and noted in single ('') or double (\"\") quotes could be known as String.\n",
    "3. Boolean: Data noted as True and False only could be termed as bolean variable.\n",
    "    \n",
    "    var1= 123: Number\n",
    "    var2='String123' or 'String' String\n",
    "    var3= True Boolean\n",
    "    "
   ]
  },
  {
   "cell_type": "code",
   "execution_count": null,
   "metadata": {},
   "outputs": [],
   "source": [
    "#Q4. What is an expression made up of? What do all expressions do?\n",
    "\n",
    "Ans:\n",
    "    Expression is made up of variable in left side and data/variables with operator on right side.\n",
    "    \n",
    "    Expression used to return results out of calculation perform right side of expression and assign it to left side of expresion termed as variable.\n",
    "\n",
    "A= B+C #here  a,b,c are variables calculations of B+C assigned to A."
   ]
  },
  {
   "cell_type": "code",
   "execution_count": null,
   "metadata": {},
   "outputs": [],
   "source": [
    "#Q5. This assignment statements, like spam = 10. What is the difference between an expression and a statement?\n",
    "\n",
    "Ans:\n",
    "    Expression usually return results after calculation between allowed data forms and assign it to variable\n",
    "    Statement only used for assignment won't perform any calculations."
   ]
  },
  {
   "cell_type": "code",
   "execution_count": 2,
   "metadata": {
    "collapsed": true
   },
   "outputs": [
    {
     "name": "stdout",
     "output_type": "stream",
     "text": [
      "22\n"
     ]
    }
   ],
   "source": [
    "#Q6: After running the following code, what does the variable bacon contain?\n",
    "\n",
    "bacon = 22\n",
    "bacon + 1\n",
    "# Ans: bacon contains 22"
   ]
  },
  {
   "cell_type": "code",
   "execution_count": 3,
   "metadata": {
    "collapsed": true
   },
   "outputs": [
    {
     "name": "stdout",
     "output_type": "stream",
     "text": [
      "spamspamspam\n"
     ]
    }
   ],
   "source": [
    "#Q7. What should the values of the following two terms be?\n",
    "'spam' + 'spamspam'= 'spamspamspam'\n",
    "'spam' * 3 = 'spamspamspam'"
   ]
  },
  {
   "cell_type": "code",
   "execution_count": null,
   "metadata": {},
   "outputs": [],
   "source": [
    "#Q8: Why is eggs a valid variable name while 100 is invalid?\n",
    "\n",
    "Ans:\n",
    "    variable name always can't be started with number or number, should be in form string or some speacial expresion like _\n",
    "    "
   ]
  },
  {
   "cell_type": "code",
   "execution_count": null,
   "metadata": {},
   "outputs": [],
   "source": [
    "#Q9: What three functions can be used to get the integer, floating-point number, or string version of a value?\n",
    "\n",
    "Ans: \n",
    "    int(), str(), float()"
   ]
  },
  {
   "cell_type": "code",
   "execution_count": 8,
   "metadata": {
    "collapsed": true
   },
   "outputs": [
    {
     "data": {
      "text/plain": [
       "\"\\n'I have eaten ' + 99 + ' burritos.'\\n\\nAns: \\n    Because these are two diffrent data forms to get this, we can use.\\n   \\n'I have eaten ' + str(99) + ' burritos.'\\n\""
      ]
     },
     "execution_count": 8,
     "metadata": {},
     "output_type": "execute_result"
    }
   ],
   "source": [
    "#Q10: Why does this expression cause an error? How can you fix it?\n",
    "\n",
    "'I have eaten ' + 99 + ' burritos.'\n",
    "\n",
    "Ans: \n",
    "    Because these are two diffrent data forms to get this, we can use.\n",
    "   \n",
    "'I have eaten ' + str(99) + ' burritos.'"
   ]
  },
  {
   "cell_type": "code",
   "execution_count": null,
   "metadata": {},
   "outputs": [],
   "source": []
  }
 ],
 "metadata": {
  "kernelspec": {
   "display_name": "Python 3",
   "language": "python",
   "name": "python3"
  },
  "language_info": {
   "codemirror_mode": {
    "name": "ipython",
    "version": 3
   },
   "file_extension": ".py",
   "mimetype": "text/x-python",
   "name": "python",
   "nbconvert_exporter": "python",
   "pygments_lexer": "ipython3",
   "version": "3.8.5"
  }
 },
 "nbformat": 4,
 "nbformat_minor": 4
}
