{
 "cells": [
  {
   "cell_type": "code",
   "execution_count": null,
   "id": "a41b775d",
   "metadata": {},
   "outputs": [],
   "source": [
    "#1. Why are functions advantageous to have in your programs?\n",
    "#Ans: To reuse the set of statments we use functions, with functions code looks more clear, \n",
    "#information which we don't want to show in program can be hidden using functions."
   ]
  },
  {
   "cell_type": "code",
   "execution_count": null,
   "id": "fdae2324",
   "metadata": {},
   "outputs": [],
   "source": [
    "#2. When does the code in a function run: when it's specified or when it's called?\n",
    "#Ans: function executes on call, when defined it's just an ideal set of staments."
   ]
  },
  {
   "cell_type": "code",
   "execution_count": null,
   "id": "1564e235",
   "metadata": {},
   "outputs": [],
   "source": [
    "#3. What statement creates a function?\n",
    "#Ans. def\n",
    "def Test():\n",
    "    pass\n"
   ]
  },
  {
   "cell_type": "code",
   "execution_count": null,
   "id": "4946230f",
   "metadata": {},
   "outputs": [],
   "source": [
    "#4. What is the difference between a function and a function call?\n",
    "#Ans: function is a set / block of code that do some operation and return results, function call pass control of programm to that block. \n"
   ]
  },
  {
   "cell_type": "code",
   "execution_count": 15,
   "id": "8fc2f3df",
   "metadata": {},
   "outputs": [
    {
     "data": {
      "text/plain": [
       "201"
      ]
     },
     "execution_count": 15,
     "metadata": {},
     "output_type": "execute_result"
    }
   ],
   "source": [
    "#5. How many global scopes are there in a Python program? How many local scopes?\n",
    "#Ans: one global scope, if i talked only one block then only 1 local scope if number of blockes will increase local scope increases in same ration n:n.\n",
    "\n",
    "var =201\n",
    "def test():\n",
    "    var=0\n",
    "    var=var+1\n",
    "    print(var)\n",
    "var"
   ]
  },
  {
   "cell_type": "code",
   "execution_count": 18,
   "id": "63dd5785",
   "metadata": {},
   "outputs": [
    {
     "name": "stdout",
     "output_type": "stream",
     "text": [
      "201\n",
      "1\n"
     ]
    }
   ],
   "source": [
    "#6. What happens to variables in a local scope when the function call returns?\n",
    "#Ans value of variable will be returned and no impact of any operation on global variable.\n",
    "\n",
    "var =201\n",
    "def test():\n",
    "    var=0\n",
    "    var=var+1\n",
    "    return var\n",
    "print(var)\n",
    "print(test())"
   ]
  },
  {
   "cell_type": "code",
   "execution_count": null,
   "id": "8a3f0a5f",
   "metadata": {},
   "outputs": [],
   "source": [
    "#7. What is the concept of a return value? Is it possible to have a return value in an expression?\n",
    "#Ans: A block of code when pass through program using call will do some operation \n",
    "#and return value in form of result when task is completed.\n",
    "#yes, we can return value in an expression.\n"
   ]
  },
  {
   "cell_type": "code",
   "execution_count": null,
   "id": "d4db7166",
   "metadata": {},
   "outputs": [],
   "source": [
    "#8. If a function does not have a return statement, what is the return value of a call to that function?\n",
    "#Ans: none will be return if no return statement.\n"
   ]
  },
  {
   "cell_type": "code",
   "execution_count": null,
   "id": "25bc6ac4",
   "metadata": {},
   "outputs": [],
   "source": [
    "#9. How do you make a function variable refer to the global variable?\n",
    "\n",
    "#Ans global keyword is used to refer a variable is a global variable."
   ]
  },
  {
   "cell_type": "code",
   "execution_count": 19,
   "id": "0726d615",
   "metadata": {},
   "outputs": [
    {
     "name": "stdout",
     "output_type": "stream",
     "text": [
      "<class 'NoneType'>\n"
     ]
    }
   ],
   "source": [
    "#10. What is the data type of None?\n",
    "#Ans: NoneType\n",
    "print(type(None))"
   ]
  },
  {
   "cell_type": "code",
   "execution_count": null,
   "id": "de0fe101",
   "metadata": {},
   "outputs": [],
   "source": [
    "#11. What does the sentence import areallyourpetsnamederic do?\n",
    "#Ans: Will import module named areallyourpetsnamederic into program, we can use any function defined in that module."
   ]
  },
  {
   "cell_type": "code",
   "execution_count": null,
   "id": "2738dcec",
   "metadata": {},
   "outputs": [],
   "source": [
    "#12. If you had a bacon() feature in a spam module, what would you call it after importing spam?\n",
    "#Ans: spam.bacon()\n"
   ]
  },
  {
   "cell_type": "code",
   "execution_count": null,
   "id": "7d2fe0e0",
   "metadata": {},
   "outputs": [],
   "source": [
    "#13. What can you do to save a programme from crashing if it encounters an error?\n",
    "#Ans: try-except block is used in those cases.\n"
   ]
  },
  {
   "cell_type": "code",
   "execution_count": null,
   "id": "8b781a5e",
   "metadata": {},
   "outputs": [],
   "source": [
    "#14. What is the purpose of the try clause? What is the purpose of the except clause?\n",
    "#Ans: Try clause is used as precautionary measure in case if some logical error in program and if there is an error then program move to except clause otherwise program executes next statement after the caluse.\n",
    "\n"
   ]
  }
 ],
 "metadata": {
  "kernelspec": {
   "display_name": "Python 3",
   "language": "python",
   "name": "python3"
  },
  "language_info": {
   "codemirror_mode": {
    "name": "ipython",
    "version": 3
   },
   "file_extension": ".py",
   "mimetype": "text/x-python",
   "name": "python",
   "nbconvert_exporter": "python",
   "pygments_lexer": "ipython3",
   "version": "3.9.4"
  }
 },
 "nbformat": 4,
 "nbformat_minor": 5
}
