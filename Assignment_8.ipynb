{
 "cells": [
  {
   "cell_type": "code",
   "execution_count": 2,
   "id": "ede9bd45",
   "metadata": {},
   "outputs": [
    {
     "name": "stdout",
     "output_type": "stream",
     "text": [
      "Collecting pyinputplus\n",
      "  Downloading PyInputPlus-0.2.12.tar.gz (20 kB)\n",
      "  Installing build dependencies: started\n",
      "  Installing build dependencies: finished with status 'done'\n",
      "  Getting requirements to build wheel: started\n",
      "  Getting requirements to build wheel: finished with status 'done'\n",
      "    Preparing wheel metadata: started\n",
      "    Preparing wheel metadata: finished with status 'done'\n",
      "Collecting stdiomask>=0.0.3\n",
      "  Downloading stdiomask-0.0.6.tar.gz (3.6 kB)\n",
      "  Installing build dependencies: started\n",
      "  Installing build dependencies: finished with status 'done'\n",
      "  Getting requirements to build wheel: started\n",
      "  Getting requirements to build wheel: finished with status 'done'\n",
      "    Preparing wheel metadata: started\n",
      "    Preparing wheel metadata: finished with status 'done'\n",
      "Collecting pysimplevalidate>=0.2.7\n",
      "  Downloading PySimpleValidate-0.2.12.tar.gz (22 kB)\n",
      "  Installing build dependencies: started\n",
      "  Installing build dependencies: finished with status 'done'\n",
      "  Getting requirements to build wheel: started\n",
      "  Getting requirements to build wheel: finished with status 'done'\n",
      "    Preparing wheel metadata: started\n",
      "    Preparing wheel metadata: finished with status 'done'\n",
      "Building wheels for collected packages: pyinputplus, pysimplevalidate, stdiomask\n",
      "  Building wheel for pyinputplus (PEP 517): started\n",
      "  Building wheel for pyinputplus (PEP 517): finished with status 'done'\n",
      "  Created wheel for pyinputplus: filename=PyInputPlus-0.2.12-py3-none-any.whl size=11315 sha256=0e8367535b2f13368c5b0333302852221de9c7d87aa4973e97bf65a2623d2e39\n",
      "  Stored in directory: c:\\users\\avinash sindwani\\appdata\\local\\pip\\cache\\wheels\\b9\\b4\\e7\\825446929f44b25d05f4df52bc4f7d211e5dec4c547126a098\n",
      "  Building wheel for pysimplevalidate (PEP 517): started\n",
      "  Building wheel for pysimplevalidate (PEP 517): finished with status 'done'\n",
      "  Created wheel for pysimplevalidate: filename=PySimpleValidate-0.2.12-py3-none-any.whl size=16192 sha256=8346fc57cffe7c89a106a43947233152a1f1d123a363f4c195cb1d7002375d21\n",
      "  Stored in directory: c:\\users\\avinash sindwani\\appdata\\local\\pip\\cache\\wheels\\bd\\d4\\a5\\a003719238ab12962e430310093e567ab7d29bc3bfe062b14c\n",
      "  Building wheel for stdiomask (PEP 517): started\n",
      "  Building wheel for stdiomask (PEP 517): finished with status 'done'\n",
      "  Created wheel for stdiomask: filename=stdiomask-0.0.6-py3-none-any.whl size=3320 sha256=8495ad0b7e92bfbf65be0408d96075fa5cb5aae011fcb181d4653569dfa0d9e3\n",
      "  Stored in directory: c:\\users\\avinash sindwani\\appdata\\local\\pip\\cache\\wheels\\c1\\e9\\4e\\bcdfc282cffe91bb88e951ad9a05fb166ed6460bbe3c6dc02b\n",
      "Successfully built pyinputplus pysimplevalidate stdiomask\n",
      "Installing collected packages: stdiomask, pysimplevalidate, pyinputplus\n",
      "Successfully installed pyinputplus-0.2.12 pysimplevalidate-0.2.12 stdiomask-0.0.6\n"
     ]
    }
   ],
   "source": [
    "#1. Is the Python Standard Library included with PyInputPlus?\n",
    "\n",
    "#Ans: No, we have to install separatly. "
   ]
  },
  {
   "cell_type": "code",
   "execution_count": null,
   "id": "6f580084",
   "metadata": {},
   "outputs": [],
   "source": [
    "#2. Why is PyInputPlus commonly imported with import pyinputplus as pypi?\n",
    "\n",
    "#Ans: So that we can enter use smaller string while refrencing the module."
   ]
  },
  {
   "cell_type": "code",
   "execution_count": 9,
   "id": "3d1d95b0",
   "metadata": {},
   "outputs": [
    {
     "name": "stdout",
     "output_type": "stream",
     "text": [
      "Enter an Integer... 4.5\n",
      "'4.5' is not an integer.\n",
      "Enter an Integer... 3\n",
      "3\n",
      "Enter an Float... 3\n",
      "3.0\n"
     ]
    }
   ],
   "source": [
    "#3. How do you distinguish between inputInt() and inputFloat()?\n",
    "\n",
    "#Ans: InpurInt allows Only integer values and one with.0 inputFloat excepts integer and float both.\n",
    "\n",
    "import pyinputplus as pyip\n",
    "\n",
    "inp = pyip.inputInt(prompt = \"Enter an Integer... \", \n",
    "                    default = 0, limit = 3)\n",
    "  \n",
    "print(inp)\n",
    "\n",
    "\n",
    "inp = pyip.inputFloat(prompt = \"Enter an Float... \", \n",
    "                    default = 0, limit = 3)\n",
    "  \n",
    "print(inp)\n",
    "\n"
   ]
  },
  {
   "cell_type": "code",
   "execution_count": 12,
   "id": "f0904511",
   "metadata": {},
   "outputs": [
    {
     "name": "stdout",
     "output_type": "stream",
     "text": [
      "Enter an Integer... -1\n",
      "Number must be at minimum 0.\n",
      "Enter an Integer... 0\n"
     ]
    }
   ],
   "source": [
    "#Using PyInputPlus, how do you ensure that the user enters a whole number between 0 and 99?\n",
    "#Ans: By passing min and less than attribute in inputInt.\n",
    "inp = pyip.inputInt(prompt = \"Enter an Integer... \",\n",
    "                    min = 0, lessThan = 100 )"
   ]
  },
  {
   "cell_type": "code",
   "execution_count": 20,
   "id": "afffa396",
   "metadata": {},
   "outputs": [
    {
     "name": "stdout",
     "output_type": "stream",
     "text": [
      "Enter a string... sadasd\n",
      "This response is invalid.\n",
      "Enter a string... asdasd\n",
      "This response is invalid.\n",
      "Enter a string... fdfd\n",
      "fdfd\n"
     ]
    }
   ],
   "source": [
    "#What is transferred to the keyword arguments allowRegexes and blockRegexes?\n",
    "\n",
    "#Ans: Allowregexes will allow characters in addition to other characters while blockregexes used for blocking, we can use both in combination if have to use both.\n",
    "\n",
    "import pyinputplus as pyip\n",
    "  \n",
    "# string input with\n",
    "# additional parameters\n",
    "inp = pyip.inputStr(prompt=\"Enter a string... \", \n",
    "                    blank=True, blockRegexes = 'aeiou')\n",
    "print(inp)"
   ]
  },
  {
   "cell_type": "code",
   "execution_count": null,
   "id": "8cf7ac23",
   "metadata": {},
   "outputs": [],
   "source": [
    "#6. If a blank input is entered three times, what does inputStr(limit=3) do?\n",
    "\n",
    "#Ans: then default value will be printed and execution closed if no default value passed then 0 will be printed."
   ]
  },
  {
   "cell_type": "code",
   "execution_count": 24,
   "id": "4353deb3",
   "metadata": {},
   "outputs": [
    {
     "name": "stdout",
     "output_type": "stream",
     "text": [
      "Enter a string... a\n",
      "This response is invalid.\n",
      "Enter a string... aasfd\n",
      "This response is invalid.\n",
      "Enter a string... asd\n",
      "This response is invalid.\n",
      "hello\n"
     ]
    }
   ],
   "source": [
    "#7. If blank input is entered three times, what does inputStr(limit=3, default=&#39;hello&#39;) do?\n",
    "\n",
    "#Ans: Default\n",
    "\n",
    "\n",
    "inp = pyip.inputStr(prompt=\"Enter a string... \", \n",
    "                    blank=True, blockRegexes = 'aeiou',limit=3, default='hello')\n",
    "print(inp)\n"
   ]
  },
  {
   "cell_type": "code",
   "execution_count": null,
   "id": "df7795b4",
   "metadata": {},
   "outputs": [],
   "source": []
  }
 ],
 "metadata": {
  "kernelspec": {
   "display_name": "Python 3",
   "language": "python",
   "name": "python3"
  },
  "language_info": {
   "codemirror_mode": {
    "name": "ipython",
    "version": 3
   },
   "file_extension": ".py",
   "mimetype": "text/x-python",
   "name": "python",
   "nbconvert_exporter": "python",
   "pygments_lexer": "ipython3",
   "version": "3.8.8"
  }
 },
 "nbformat": 4,
 "nbformat_minor": 5
}
