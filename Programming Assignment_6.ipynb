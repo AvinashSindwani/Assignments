{
 "cells": [
  {
   "cell_type": "code",
   "execution_count": 7,
   "id": "9a0eff06",
   "metadata": {},
   "outputs": [
    {
     "name": "stdout",
     "output_type": "stream",
     "text": [
      "0\n",
      "1\n",
      "1\n",
      "2\n",
      "3\n",
      "5\n",
      "8\n",
      "13\n",
      "21\n",
      "34\n"
     ]
    }
   ],
   "source": [
    "#1. Write a Python Program to Display Fibonacci Sequence Using Recursion?\n",
    "def fibS(n):\n",
    "    if n <= 1:\n",
    "        return n;\n",
    "    return fibS(n-1) + fibS(n-2)\n",
    "\n",
    "n=10\n",
    "for i in range(n):\n",
    "    print(fibS(i))"
   ]
  },
  {
   "cell_type": "code",
   "execution_count": 5,
   "id": "fa02b3eb",
   "metadata": {},
   "outputs": [
    {
     "name": "stdout",
     "output_type": "stream",
     "text": [
      "7\n",
      "6\n",
      "5\n",
      "4\n",
      "3\n",
      "2\n"
     ]
    },
    {
     "data": {
      "text/plain": [
       "5040"
      ]
     },
     "execution_count": 5,
     "metadata": {},
     "output_type": "execute_result"
    }
   ],
   "source": [
    "#2. Write a Python Program to Find Factorial of Number Using Recursion?\n",
    "def fact(n):\n",
    "    if n <= 1:\n",
    "        return 1;\n",
    "    print(n)\n",
    "    return fact(n-1) * n\n",
    "\n",
    "fact(7)\n"
   ]
  },
  {
   "cell_type": "code",
   "execution_count": 10,
   "id": "f7381bcf",
   "metadata": {},
   "outputs": [
    {
     "name": "stdout",
     "output_type": "stream",
     "text": [
      "28.927466854903848\n"
     ]
    }
   ],
   "source": [
    "#3. Write a Python Program to calculate your Body Mass Index?\n",
    "\n",
    "weight=100\n",
    "height= 6.1 * 0.3048 #(foot*meter)\n",
    "BMI= weight/(height * height) # Weight/ height meter square\n",
    "print(BMI)"
   ]
  },
  {
   "cell_type": "code",
   "execution_count": 12,
   "id": "20c7f3de",
   "metadata": {},
   "outputs": [
    {
     "data": {
      "text/plain": [
       "1.6094379124341003"
      ]
     },
     "execution_count": 12,
     "metadata": {},
     "output_type": "execute_result"
    }
   ],
   "source": [
    "#4. Write a Python Program to calculate the natural logarithm of any number?\n",
    "import math\n",
    "math.log(5) \n"
   ]
  },
  {
   "cell_type": "code",
   "execution_count": 29,
   "id": "cb12de6b",
   "metadata": {},
   "outputs": [
    {
     "name": "stdout",
     "output_type": "stream",
     "text": [
      "4\n",
      "3\n",
      "2\n",
      "100\n"
     ]
    }
   ],
   "source": [
    "#5. Write a Python Program for cube sum of first n natural numbers?\n",
    "\n",
    "def cbS(n):\n",
    "    if n<=1:\n",
    "        return n\n",
    "    print(n)\n",
    "    return cbS(n-1) + n ** 3\n",
    "\n",
    "print(cbS(4))"
   ]
  },
  {
   "cell_type": "code",
   "execution_count": null,
   "id": "b9066c10",
   "metadata": {},
   "outputs": [],
   "source": []
  }
 ],
 "metadata": {
  "kernelspec": {
   "display_name": "Python 3",
   "language": "python",
   "name": "python3"
  },
  "language_info": {
   "codemirror_mode": {
    "name": "ipython",
    "version": 3
   },
   "file_extension": ".py",
   "mimetype": "text/x-python",
   "name": "python",
   "nbconvert_exporter": "python",
   "pygments_lexer": "ipython3",
   "version": "3.9.4"
  }
 },
 "nbformat": 4,
 "nbformat_minor": 5
}
