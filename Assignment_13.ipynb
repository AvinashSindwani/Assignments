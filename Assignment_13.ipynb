{
 "cells": [
  {
   "cell_type": "code",
   "execution_count": null,
   "id": "9b6e0be5",
   "metadata": {},
   "outputs": [],
   "source": [
    "#What advantages do Excel spreadsheets have over CSV spreadsheets?\n",
    "\n",
    "#Ans: We can store multiple type of information in multile sheets and can do any type of operation excel but can't do in csv spreadsheets. "
   ]
  },
  {
   "cell_type": "code",
   "execution_count": 13,
   "id": "326511a9",
   "metadata": {},
   "outputs": [
    {
     "ename": "TypeError",
     "evalue": "argument 1 must have a \"write\" method",
     "output_type": "error",
     "traceback": [
      "\u001b[1;31m---------------------------------------------------------------------------\u001b[0m",
      "\u001b[1;31mTypeError\u001b[0m                                 Traceback (most recent call last)",
      "\u001b[1;32m<ipython-input-13-7c220eab7ada>\u001b[0m in \u001b[0;36m<module>\u001b[1;34m\u001b[0m\n\u001b[0;32m      5\u001b[0m \u001b[1;33m\u001b[0m\u001b[0m\n\u001b[0;32m      6\u001b[0m \u001b[0mfl\u001b[0m\u001b[1;33m=\u001b[0m \u001b[0mcsv\u001b[0m\u001b[1;33m.\u001b[0m\u001b[0mreader\u001b[0m\u001b[1;33m(\u001b[0m\u001b[1;34m'result_mongo.csv'\u001b[0m\u001b[1;33m)\u001b[0m\u001b[1;33m\u001b[0m\u001b[1;33m\u001b[0m\u001b[0m\n\u001b[1;32m----> 7\u001b[1;33m \u001b[0mcsv\u001b[0m\u001b[1;33m.\u001b[0m\u001b[0mwriter\u001b[0m\u001b[1;33m(\u001b[0m\u001b[1;34mr'result_mongo1.csv'\u001b[0m\u001b[1;33m,\u001b[0m\u001b[1;34m'w'\u001b[0m\u001b[1;33m)\u001b[0m\u001b[1;33m\u001b[0m\u001b[1;33m\u001b[0m\u001b[0m\n\u001b[0m",
      "\u001b[1;31mTypeError\u001b[0m: argument 1 must have a \"write\" method"
     ]
    }
   ],
   "source": [
    "#2.What do you pass to csv.reader() and csv.writer() to create reader and writer objects?\n",
    "\n",
    "#Ans: Fileobect from which we have to download the data or on which we ahve to write the data."
   ]
  },
  {
   "cell_type": "code",
   "execution_count": null,
   "id": "9aeaf1c1",
   "metadata": {},
   "outputs": [],
   "source": [
    "#What modes do File objects for reader and writer objects need to be opened in?\n",
    "\n",
    "#Ans: r(read),w(write), wb(write binary), w+(read write both)"
   ]
  },
  {
   "cell_type": "code",
   "execution_count": 31,
   "id": "aa902a9e",
   "metadata": {},
   "outputs": [
    {
     "name": "stdout",
     "output_type": "stream",
     "text": [
      "<_io.TextIOWrapper name='result.csv' mode='w+' encoding='cp1252'>\n"
     ]
    }
   ],
   "source": [
    "#What method takes a list argument and writes it to a CSV file?\n",
    "#Ans: writerows()\n",
    "import csv\n",
    "\n",
    "with open('result.csv','w+') as file:\n",
    "    print(file)\n",
    "    fl= csv.reader(file)\n"
   ]
  },
  {
   "cell_type": "code",
   "execution_count": null,
   "id": "9464da12",
   "metadata": {},
   "outputs": [],
   "source": [
    "#5. What do the keyword arguments delimiter and line terminator do?\n",
    "\n",
    "#Ans: delimiter argument used for mentioning how columns are separated.\n",
    "\n",
    "#line terminator is used for row terimination if want two new lines in between of rows, please refer below example.\n",
    "\n",
    "\n",
    "#csvWriter = csv.writer(csvFile, delimiter='\\t', lineterminator='\\n\\n')\n"
   ]
  },
  {
   "cell_type": "code",
   "execution_count": 15,
   "id": "b3d5a09e",
   "metadata": {},
   "outputs": [
    {
     "data": {
      "text/plain": [
       "dict"
      ]
     },
     "execution_count": 15,
     "metadata": {},
     "output_type": "execute_result"
    }
   ],
   "source": [
    "#What function takes a string of JSON data and returns a Python data structure?\n",
    "#Ans: loads\n",
    "import json\n",
    "\n",
    "data= '{\"t1\":\"Avi\",\"t2\": \"Sind\",\"t3\":30}'\n",
    "\n",
    "tt= json.loads(data)\n",
    "type(tt)"
   ]
  },
  {
   "cell_type": "code",
   "execution_count": 18,
   "id": "098577d1",
   "metadata": {},
   "outputs": [
    {
     "data": {
      "text/plain": [
       "'{\"t1\": \"Avi\", \"t2\": \"Sind\", \"t3\": 30}'"
      ]
     },
     "execution_count": 18,
     "metadata": {},
     "output_type": "execute_result"
    }
   ],
   "source": [
    "#What function takes a Python data structure and returns a string of JSON data?\n",
    "\n",
    "#Ans: dumps\n",
    "import json\n",
    "data= {\"t1\":\"Avi\",\"t2\": \"Sind\",\"t3\":30}\n",
    "\n",
    "tt= json.dumps(data)\n",
    "tt"
   ]
  }
 ],
 "metadata": {
  "kernelspec": {
   "display_name": "Python 3",
   "language": "python",
   "name": "python3"
  },
  "language_info": {
   "codemirror_mode": {
    "name": "ipython",
    "version": 3
   },
   "file_extension": ".py",
   "mimetype": "text/x-python",
   "name": "python",
   "nbconvert_exporter": "python",
   "pygments_lexer": "ipython3",
   "version": "3.8.8"
  }
 },
 "nbformat": 4,
 "nbformat_minor": 5
}
