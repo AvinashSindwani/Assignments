{
 "cells": [
  {
   "cell_type": "code",
   "execution_count": 2,
   "id": "bb867676",
   "metadata": {},
   "outputs": [
    {
     "name": "stdout",
     "output_type": "stream",
     "text": [
      "Requirement already satisfied: cassandra-driver in c:\\users\\avinash sindwani\\anaconda3\\lib\\site-packages (3.25.0)\n",
      "Requirement already satisfied: geomet<0.3,>=0.1 in c:\\users\\avinash sindwani\\anaconda3\\lib\\site-packages (from cassandra-driver) (0.2.1.post1)\n",
      "Requirement already satisfied: six>=1.9 in c:\\users\\avinash sindwani\\anaconda3\\lib\\site-packages (from cassandra-driver) (1.15.0)\n",
      "Requirement already satisfied: click in c:\\users\\avinash sindwani\\anaconda3\\lib\\site-packages (from geomet<0.3,>=0.1->cassandra-driver) (7.1.2)\n"
     ]
    }
   ],
   "source": [
    "!pip install cassandra-driver"
   ]
  },
  {
   "cell_type": "code",
   "execution_count": 1,
   "id": "e6f68e62",
   "metadata": {},
   "outputs": [
    {
     "name": "stdout",
     "output_type": "stream",
     "text": [
      "3.25.0\n"
     ]
    }
   ],
   "source": [
    "import cassandra\n",
    "print(cassandra.__version__)"
   ]
  },
  {
   "cell_type": "code",
   "execution_count": 2,
   "id": "76dbce3b",
   "metadata": {},
   "outputs": [
    {
     "name": "stdout",
     "output_type": "stream",
     "text": [
      "4.0.0.6813\n"
     ]
    }
   ],
   "source": [
    "from cassandra.cluster import Cluster\n",
    "from cassandra.auth import PlainTextAuthProvider\n",
    "\n",
    "cloud_config= {\n",
    "        'secure_connect_bundle': 'secure-connect-test.zip'\n",
    "}\n",
    "\n",
    "auth_provider = PlainTextAuthProvider('IvbRMXOzokfgBOBvZNufdckM','eEbT+rLK+icCt9nnELQyDprdSLb60KoMmNK42oFw7RrQQx0jkfWw3cqH85NpRZUxCvPk+LmetAXNQG0x9fZ1Caj9Q0qkrXqXuZAOzMBKP2pP-r.dyzkrQomNvTFKSKxp')\n",
    "cluster= Cluster(cloud=cloud_config, auth_provider= auth_provider) \n",
    "session= cluster.connect()\n",
    "\n",
    "row = session.execute(\"select release_version from system.local\").one()\n",
    "\n",
    "if row:\n",
    "    print(row[0])\n",
    "else:\n",
    "    print(\"An error occured.\")\n",
    "\n"
   ]
  },
  {
   "cell_type": "code",
   "execution_count": 33,
   "id": "3df021db",
   "metadata": {},
   "outputs": [
    {
     "name": "stdout",
     "output_type": "stream",
     "text": [
      "data_endpoint_auth\n",
      "datastax_sla\n",
      "Avinash\n",
      "system_auth\n",
      "system_schema\n",
      "ineuron\n",
      "system\n",
      "system_traces\n"
     ]
    }
   ],
   "source": [
    "from cassandra.cluster import Cluster\n",
    "from cassandra.auth import PlainTextAuthProvider\n",
    "\n",
    "cloud_config= {\n",
    "        'secure_connect_bundle': 'secure-connect-test.zip'\n",
    "}\n",
    "\n",
    "auth_provider = PlainTextAuthProvider('IvbRMXOzokfgBOBvZNufdckM','eEbT+rLK+icCt9nnELQyDprdSLb60KoMmNK42oFw7RrQQx0jkfWw3cqH85NpRZUxCvPk+LmetAXNQG0x9fZ1Caj9Q0qkrXqXuZAOzMBKP2pP-r.dyzkrQomNvTFKSKxp')\n",
    "cluster= Cluster(cloud=cloud_config, auth_provider= auth_provider) \n",
    "session= cluster.connect()\n",
    "\n",
    "row = session.execute(\"SELECT * FROM system_schema.keyspaces;\").all()\n",
    "\n",
    "for i in row:\n",
    "    if i:\n",
    "        print(i[0])\n",
    "    else:\n",
    "        print(\"An error occured.\")\n"
   ]
  },
  {
   "cell_type": "code",
   "execution_count": 82,
   "id": "3ba335f1",
   "metadata": {},
   "outputs": [
    {
     "name": "stdout",
     "output_type": "stream",
     "text": [
      "An error occured.\n"
     ]
    }
   ],
   "source": [
    "from cassandra.cluster import Cluster\n",
    "from cassandra.auth import PlainTextAuthProvider\n",
    "\n",
    "cloud_config= {\n",
    "        'secure_connect_bundle': 'secure-connect-test.zip'\n",
    "}\n",
    "\n",
    "auth_provider = PlainTextAuthProvider('IvbRMXOzokfgBOBvZNufdckM','eEbT+rLK+icCt9nnELQyDprdSLb60KoMmNK42oFw7RrQQx0jkfWw3cqH85NpRZUxCvPk+LmetAXNQG0x9fZ1Caj9Q0qkrXqXuZAOzMBKP2pP-r.dyzkrQomNvTFKSKxp')\n",
    "cluster= Cluster(cloud=cloud_config, auth_provider= auth_provider) \n",
    "session= cluster.connect()\n",
    "\n",
    "row = session.execute('create table \"Test1\".Test6(Emp_id int primary key,Emp_name text, salary int);')\n",
    "\n",
    "if row:\n",
    "    print(row[0])\n",
    "else:\n",
    "    print(\"An error occured.\")\n"
   ]
  },
  {
   "cell_type": "code",
   "execution_count": 83,
   "id": "d1788593",
   "metadata": {},
   "outputs": [
    {
     "name": "stdout",
     "output_type": "stream",
     "text": [
      "An error occured.\n"
     ]
    }
   ],
   "source": [
    "from cassandra.cluster import Cluster\n",
    "from cassandra.auth import PlainTextAuthProvider\n",
    "\n",
    "cloud_config= {\n",
    "        'secure_connect_bundle': 'secure-connect-test.zip'\n",
    "}\n",
    "\n",
    "auth_provider = PlainTextAuthProvider('IvbRMXOzokfgBOBvZNufdckM','eEbT+rLK+icCt9nnELQyDprdSLb60KoMmNK42oFw7RrQQx0jkfWw3cqH85NpRZUxCvPk+LmetAXNQG0x9fZ1Caj9Q0qkrXqXuZAOzMBKP2pP-r.dyzkrQomNvTFKSKxp')\n",
    "cluster= Cluster(cloud=cloud_config, auth_provider= auth_provider) \n",
    "session= cluster.connect()\n",
    "\n",
    "row = session.execute(\"insert into \\\"Test1\\\".Test6 (Emp_id,Emp_name,salary) values(1,'Avinash',400)\").one()\n",
    "\n",
    "#row = session.execute(\"insert into ineuron.student (id,class,marks) values(3,'CSE',150)\").one()\n",
    "\n",
    "if row:\n",
    "    print(row[0])\n",
    "else:\n",
    "    print(\"An error occured.\")\n"
   ]
  },
  {
   "cell_type": "code",
   "execution_count": 85,
   "id": "aa313c24",
   "metadata": {},
   "outputs": [
    {
     "name": "stdout",
     "output_type": "stream",
     "text": [
      "Row(emp_id=1, emp_name='Avinash', salary=400)\n"
     ]
    }
   ],
   "source": [
    "from cassandra.cluster import Cluster\n",
    "from cassandra.auth import PlainTextAuthProvider\n",
    "\n",
    "cloud_config= {\n",
    "        'secure_connect_bundle': 'secure-connect-test.zip'\n",
    "}\n",
    "\n",
    "auth_provider = PlainTextAuthProvider('IvbRMXOzokfgBOBvZNufdckM','eEbT+rLK+icCt9nnELQyDprdSLb60KoMmNK42oFw7RrQQx0jkfWw3cqH85NpRZUxCvPk+LmetAXNQG0x9fZ1Caj9Q0qkrXqXuZAOzMBKP2pP-r.dyzkrQomNvTFKSKxp')\n",
    "cluster= Cluster(cloud=cloud_config, auth_provider= auth_provider) \n",
    "session= cluster.connect()\n",
    "\n",
    "row = session.execute(\"select * from \\\"Test1\\\".Test6\").all()\n",
    "\n",
    "if row:\n",
    "    print(row[0])\n",
    "else:\n",
    "    print(\"An error occured.\")\n"
   ]
  },
  {
   "cell_type": "code",
   "execution_count": 4,
   "id": "522c4738",
   "metadata": {},
   "outputs": [
    {
     "name": "stdout",
     "output_type": "stream",
     "text": [
      "Row(count=1)\n"
     ]
    }
   ],
   "source": [
    "from cassandra.cluster import Cluster\n",
    "from cassandra.auth import PlainTextAuthProvider\n",
    "\n",
    "cloud_config= {\n",
    "        'secure_connect_bundle': 'secure-connect-test.zip'\n",
    "}\n",
    "\n",
    "auth_provider = PlainTextAuthProvider('IvbRMXOzokfgBOBvZNufdckM','eEbT+rLK+icCt9nnELQyDprdSLb60KoMmNK42oFw7RrQQx0jkfWw3cqH85NpRZUxCvPk+LmetAXNQG0x9fZ1Caj9Q0qkrXqXuZAOzMBKP2pP-r.dyzkrQomNvTFKSKxp')\n",
    "cluster= Cluster(cloud=cloud_config, auth_provider= auth_provider) \n",
    "session= cluster.connect()\n",
    "\n",
    "row = session.execute(\"select count(*) from \\\"Test1\\\".Test6\").all()\n",
    "\n",
    "if row:\n",
    "    print(row[0])\n",
    "else:\n",
    "    print(\"An error occured.\")\n"
   ]
  },
  {
   "cell_type": "code",
   "execution_count": 7,
   "id": "f2436e1c",
   "metadata": {},
   "outputs": [
    {
     "name": "stdout",
     "output_type": "stream",
     "text": [
      "An error occured.\n"
     ]
    }
   ],
   "source": [
    "from cassandra.cluster import Cluster\n",
    "from cassandra.auth import PlainTextAuthProvider\n",
    "\n",
    "cloud_config= {\n",
    "        'secure_connect_bundle': 'secure-connect-test.zip'\n",
    "}\n",
    "\n",
    "auth_provider = PlainTextAuthProvider('IvbRMXOzokfgBOBvZNufdckM','eEbT+rLK+icCt9nnELQyDprdSLb60KoMmNK42oFw7RrQQx0jkfWw3cqH85NpRZUxCvPk+LmetAXNQG0x9fZ1Caj9Q0qkrXqXuZAOzMBKP2pP-r.dyzkrQomNvTFKSKxp')\n",
    "cluster= Cluster(cloud=cloud_config, auth_provider= auth_provider) \n",
    "session= cluster.connect()\n",
    "\n",
    "row = session.execute(\"alter table \\\"Test1\\\".Test6 add lst_nam text\")\n",
    "\n",
    "if row:\n",
    "    print(row[0])\n",
    "else:\n",
    "    print(\"An error occured.\")\n"
   ]
  },
  {
   "cell_type": "code",
   "execution_count": 10,
   "id": "9e520077",
   "metadata": {},
   "outputs": [
    {
     "name": "stdout",
     "output_type": "stream",
     "text": [
      "[Row(emp_id=1, emp_name='Avinash', lst_nam=None, salary=400)]\n"
     ]
    }
   ],
   "source": [
    "from cassandra.cluster import Cluster\n",
    "from cassandra.auth import PlainTextAuthProvider\n",
    "\n",
    "cloud_config= {\n",
    "        'secure_connect_bundle': 'secure-connect-test.zip'\n",
    "}\n",
    "\n",
    "auth_provider = PlainTextAuthProvider('IvbRMXOzokfgBOBvZNufdckM','eEbT+rLK+icCt9nnELQyDprdSLb60KoMmNK42oFw7RrQQx0jkfWw3cqH85NpRZUxCvPk+LmetAXNQG0x9fZ1Caj9Q0qkrXqXuZAOzMBKP2pP-r.dyzkrQomNvTFKSKxp')\n",
    "cluster= Cluster(cloud=cloud_config, auth_provider= auth_provider) \n",
    "session= cluster.connect()\n",
    "\n",
    "row = session.execute(\"select * from \\\"Test1\\\".Test6\").all()\n",
    "\n",
    "if row:\n",
    "    print(row)\n",
    "else:\n",
    "    print(\"An error occured.\")\n"
   ]
  },
  {
   "cell_type": "code",
   "execution_count": 11,
   "id": "e7d58b13",
   "metadata": {},
   "outputs": [
    {
     "name": "stdout",
     "output_type": "stream",
     "text": [
      "An error occured.\n"
     ]
    }
   ],
   "source": [
    "from cassandra.cluster import Cluster\n",
    "from cassandra.auth import PlainTextAuthProvider\n",
    "\n",
    "cloud_config= {\n",
    "        'secure_connect_bundle': 'secure-connect-test.zip'\n",
    "}\n",
    "\n",
    "auth_provider = PlainTextAuthProvider('IvbRMXOzokfgBOBvZNufdckM','eEbT+rLK+icCt9nnELQyDprdSLb60KoMmNK42oFw7RrQQx0jkfWw3cqH85NpRZUxCvPk+LmetAXNQG0x9fZ1Caj9Q0qkrXqXuZAOzMBKP2pP-r.dyzkrQomNvTFKSKxp')\n",
    "cluster= Cluster(cloud=cloud_config, auth_provider= auth_provider) \n",
    "session= cluster.connect()\n",
    "\n",
    "row = session.execute(\"insert into \\\"Test1\\\".Test6 (Emp_id,Emp_name,Salary,lst_nam) values(20,'Avi',400,'Sindwani')  \").all()\n",
    "\n",
    "if row:\n",
    "    print(row)\n",
    "else:\n",
    "    print(\"An error occured.\")\n"
   ]
  },
  {
   "cell_type": "code",
   "execution_count": 12,
   "id": "45fa582f",
   "metadata": {},
   "outputs": [
    {
     "name": "stdout",
     "output_type": "stream",
     "text": [
      "[Row(emp_id=1, emp_name='Avinash', lst_nam=None, salary=400), Row(emp_id=20, emp_name='Avi', lst_nam='Sindwani', salary=400)]\n"
     ]
    }
   ],
   "source": [
    "from cassandra.cluster import Cluster\n",
    "from cassandra.auth import PlainTextAuthProvider\n",
    "\n",
    "cloud_config= {\n",
    "        'secure_connect_bundle': 'secure-connect-test.zip'\n",
    "}\n",
    "\n",
    "auth_provider = PlainTextAuthProvider('IvbRMXOzokfgBOBvZNufdckM','eEbT+rLK+icCt9nnELQyDprdSLb60KoMmNK42oFw7RrQQx0jkfWw3cqH85NpRZUxCvPk+LmetAXNQG0x9fZ1Caj9Q0qkrXqXuZAOzMBKP2pP-r.dyzkrQomNvTFKSKxp')\n",
    "cluster= Cluster(cloud=cloud_config, auth_provider= auth_provider) \n",
    "session= cluster.connect()\n",
    "\n",
    "row = session.execute(\"Select * from \\\"Test1\\\".Test6\").all()\n",
    "\n",
    "if row:\n",
    "    print(row)\n",
    "else:\n",
    "    print(\"An error occured.\")\n"
   ]
  },
  {
   "cell_type": "code",
   "execution_count": 14,
   "id": "cf9c0056",
   "metadata": {},
   "outputs": [
    {
     "name": "stdout",
     "output_type": "stream",
     "text": [
      "An error occured.\n"
     ]
    }
   ],
   "source": [
    "from cassandra.cluster import Cluster\n",
    "from cassandra.auth import PlainTextAuthProvider\n",
    "\n",
    "cloud_config= {\n",
    "        'secure_connect_bundle': 'secure-connect-test.zip'\n",
    "}\n",
    "\n",
    "auth_provider = PlainTextAuthProvider('IvbRMXOzokfgBOBvZNufdckM','eEbT+rLK+icCt9nnELQyDprdSLb60KoMmNK42oFw7RrQQx0jkfWw3cqH85NpRZUxCvPk+LmetAXNQG0x9fZ1Caj9Q0qkrXqXuZAOzMBKP2pP-r.dyzkrQomNvTFKSKxp')\n",
    "cluster= Cluster(cloud=cloud_config, auth_provider= auth_provider) \n",
    "session= cluster.connect()\n",
    "\n",
    "row = session.execute(\"insert into \\\"Test1\\\".Test6 (Emp_id,Emp_name,Salary,lst_nam) values(21,'Avi1',400,'Sindwani')  \").all()\n",
    "row = session.execute(\"insert into \\\"Test1\\\".Test6 (Emp_id,Emp_name,Salary,lst_nam) values(22,'Avi2',500,'Sindwani1')  \").all()\n",
    "row = session.execute(\"insert into \\\"Test1\\\".Test6 (Emp_id,Emp_name,Salary,lst_nam) values(23,'Avi3',600,'Sindwani2')  \").all()\n",
    "row = session.execute(\"insert into \\\"Test1\\\".Test6 (Emp_id,Emp_name,Salary,lst_nam) values(24,'Avi4',700,'Sindwani3')  \").all()\n",
    "row = session.execute(\"insert into \\\"Test1\\\".Test6 (Emp_id,Emp_name,Salary,lst_nam) values(25,'Avi5',800,'Sindwani4')  \").all()\n",
    "row = session.execute(\"insert into \\\"Test1\\\".Test6 (Emp_id,Emp_name,Salary,lst_nam) values(26,'Avi6',900,'Sindwani5')  \").all()\n",
    "row = session.execute(\"insert into \\\"Test1\\\".Test6 (Emp_id,Emp_name,Salary,lst_nam) values(27,'Avi7',1000,'Sindwani6')  \").all()\n",
    "row = session.execute(\"insert into \\\"Test1\\\".Test6 (Emp_id,Emp_name,Salary,lst_nam) values(28,'Avi8',1100,'Sindwani7')  \").all()\n",
    "row = session.execute(\"insert into \\\"Test1\\\".Test6 (Emp_id,Emp_name,Salary,lst_nam) values(29,'Avi9',1200,'Sindwani8')  \").all()\n",
    "\n",
    "if row:\n",
    "    print(row)\n",
    "else:\n",
    "    print(\"An error occured.\")\n"
   ]
  },
  {
   "cell_type": "code",
   "execution_count": 17,
   "id": "df13744a",
   "metadata": {},
   "outputs": [
    {
     "name": "stdout",
     "output_type": "stream",
     "text": [
      "[Row(system_min_salary=400)]\n"
     ]
    }
   ],
   "source": [
    "from cassandra.cluster import Cluster\n",
    "from cassandra.auth import PlainTextAuthProvider\n",
    "\n",
    "cloud_config= {\n",
    "        'secure_connect_bundle': 'secure-connect-test.zip'\n",
    "}\n",
    "\n",
    "auth_provider = PlainTextAuthProvider('IvbRMXOzokfgBOBvZNufdckM','eEbT+rLK+icCt9nnELQyDprdSLb60KoMmNK42oFw7RrQQx0jkfWw3cqH85NpRZUxCvPk+LmetAXNQG0x9fZ1Caj9Q0qkrXqXuZAOzMBKP2pP-r.dyzkrQomNvTFKSKxp')\n",
    "cluster= Cluster(cloud=cloud_config, auth_provider= auth_provider) \n",
    "session= cluster.connect()\n",
    "\n",
    "row4= session.execute(\"select min(Salary) from \\\"Test1\\\".Test6\").all()\n",
    "if row4:\n",
    "    print(row4)\n",
    "else:\n",
    "    print(\"An error occured.\")\n"
   ]
  },
  {
   "cell_type": "code",
   "execution_count": 18,
   "id": "834592f3",
   "metadata": {},
   "outputs": [
    {
     "name": "stdout",
     "output_type": "stream",
     "text": [
      "[Row(system_max_salary=1200)]\n"
     ]
    }
   ],
   "source": [
    "from cassandra.cluster import Cluster\n",
    "from cassandra.auth import PlainTextAuthProvider\n",
    "\n",
    "cloud_config= {\n",
    "        'secure_connect_bundle': 'secure-connect-test.zip'\n",
    "}\n",
    "\n",
    "auth_provider = PlainTextAuthProvider('IvbRMXOzokfgBOBvZNufdckM','eEbT+rLK+icCt9nnELQyDprdSLb60KoMmNK42oFw7RrQQx0jkfWw3cqH85NpRZUxCvPk+LmetAXNQG0x9fZ1Caj9Q0qkrXqXuZAOzMBKP2pP-r.dyzkrQomNvTFKSKxp')\n",
    "cluster= Cluster(cloud=cloud_config, auth_provider= auth_provider) \n",
    "session= cluster.connect()\n",
    "\n",
    "row4= session.execute(\"select max(Salary) from \\\"Test1\\\".Test6\").all()\n",
    "if row4:\n",
    "    print(row4)\n",
    "else:\n",
    "    print(\"An error occured.\")\n"
   ]
  },
  {
   "cell_type": "code",
   "execution_count": 19,
   "id": "4db1cadc",
   "metadata": {},
   "outputs": [
    {
     "name": "stdout",
     "output_type": "stream",
     "text": [
      "An error occured.\n"
     ]
    }
   ],
   "source": [
    "from cassandra.cluster import Cluster\n",
    "from cassandra.auth import PlainTextAuthProvider\n",
    "\n",
    "cloud_config= {\n",
    "        'secure_connect_bundle': 'secure-connect-test.zip'\n",
    "}\n",
    "\n",
    "auth_provider = PlainTextAuthProvider('IvbRMXOzokfgBOBvZNufdckM','eEbT+rLK+icCt9nnELQyDprdSLb60KoMmNK42oFw7RrQQx0jkfWw3cqH85NpRZUxCvPk+LmetAXNQG0x9fZ1Caj9Q0qkrXqXuZAOzMBKP2pP-r.dyzkrQomNvTFKSKxp')\n",
    "cluster= Cluster(cloud=cloud_config, auth_provider= auth_provider) \n",
    "session= cluster.connect()\n",
    "\n",
    "row = session.execute(\"Alter table \\\"Test1\\\".Test6 add p_score int\").all()\n",
    "row = session.execute(\"insert into \\\"Test1\\\".Test6 (Emp_id,Emp_name,Salary,lst_nam,p_score) values(21,'Avi1',400,'Sindwani',10)\").all()\n",
    "row = session.execute(\"insert into \\\"Test1\\\".Test6 (Emp_id,Emp_name,Salary,lst_nam,p_score) values(22,'Avi2',500,'Sindwani1',20)\").all()\n",
    "row = session.execute(\"insert into \\\"Test1\\\".Test6 (Emp_id,Emp_name,Salary,lst_nam,p_score) values(23,'Avi3',600,'Sindwani2',30)\").all()\n",
    "row = session.execute(\"insert into \\\"Test1\\\".Test6 (Emp_id,Emp_name,Salary,lst_nam,p_score) values(24,'Avi4',700,'Sindwani3',40)\").all()\n",
    "row = session.execute(\"insert into \\\"Test1\\\".Test6 (Emp_id,Emp_name,Salary,lst_nam,p_score) values(25,'Avi5',800,'Sindwani4',45)\").all()\n",
    "row = session.execute(\"insert into \\\"Test1\\\".Test6 (Emp_id,Emp_name,Salary,lst_nam,p_score) values(26,'Avi6',900,'Sindwani5',50)\").all()\n",
    "row = session.execute(\"insert into \\\"Test1\\\".Test6 (Emp_id,Emp_name,Salary,lst_nam,p_score) values(27,'Avi7',1000,'Sindwani6',55)\").all()\n",
    "row = session.execute(\"insert into \\\"Test1\\\".Test6 (Emp_id,Emp_name,Salary,lst_nam,p_score) values(28,'Avi8',1100,'Sindwani7',60)\").all()\n",
    "row = session.execute(\"insert into \\\"Test1\\\".Test6 (Emp_id,Emp_name,Salary,lst_nam,p_score) values(29,'Avi9',1200,'Sindwani8',65)\").all()\n",
    "\n",
    "if row:\n",
    "    print(row)\n",
    "else:\n",
    "    print(\"An error occured.\")\n"
   ]
  },
  {
   "cell_type": "code",
   "execution_count": 27,
   "id": "41675450",
   "metadata": {},
   "outputs": [
    {
     "name": "stdout",
     "output_type": "stream",
     "text": [
      "[Row(emp_id=23, emp_name='Avi3', lst_nam='Sindwani2', p_score=30, salary=600), Row(emp_id=28, emp_name='Avi8', lst_nam='Sindwani7', p_score=60, salary=1100), Row(emp_id=1, emp_name='Avinash', lst_nam=None, p_score=None, salary=400), Row(emp_id=22, emp_name='Avi2', lst_nam='Sindwani1', p_score=20, salary=500), Row(emp_id=27, emp_name='Avi7', lst_nam='Sindwani6', p_score=55, salary=1000), Row(emp_id=20, emp_name='Avi', lst_nam='Sindwani', p_score=None, salary=400), Row(emp_id=29, emp_name='Avi9', lst_nam='Sindwani8', p_score=65, salary=1200), Row(emp_id=26, emp_name='Avi6', lst_nam='Sindwani5', p_score=50, salary=900), Row(emp_id=21, emp_name='Avi1', lst_nam='Sindwani', p_score=10, salary=400), Row(emp_id=24, emp_name='Avi4', lst_nam='Sindwani3', p_score=40, salary=700), Row(emp_id=25, emp_name='Avi5', lst_nam='Sindwani4', p_score=45, salary=800)]\n",
      "[Row(system_sum_p_score=375)]\n"
     ]
    }
   ],
   "source": [
    "from cassandra.cluster import Cluster\n",
    "from cassandra.auth import PlainTextAuthProvider\n",
    "\n",
    "cloud_config= {\n",
    "        'secure_connect_bundle': 'secure-connect-test.zip'\n",
    "}\n",
    "\n",
    "auth_provider = PlainTextAuthProvider('IvbRMXOzokfgBOBvZNufdckM','eEbT+rLK+icCt9nnELQyDprdSLb60KoMmNK42oFw7RrQQx0jkfWw3cqH85NpRZUxCvPk+LmetAXNQG0x9fZ1Caj9Q0qkrXqXuZAOzMBKP2pP-r.dyzkrQomNvTFKSKxp')\n",
    "cluster= Cluster(cloud=cloud_config, auth_provider= auth_provider) \n",
    "session= cluster.connect()\n",
    "\n",
    "row1 = session.execute(\"select * from \\\"Test1\\\".Test6\").all()\n",
    "row2 = session.execute(\"select sum(p_score) from \\\"Test1\\\".Test6\").all()\n",
    "\n",
    "if row1 and row2:\n",
    "    print(row1)\n",
    "    print(row2)\n",
    "else:\n",
    "    print(\"An error occured.\")\n",
    "'''\n",
    "token@cqlsh> select * from \"Test1\".Test6;\n",
    "\n",
    " emp_id | emp_name | lst_nam   | p_score | salary\n",
    "--------+----------+-----------+---------+--------\n",
    "     23 |     Avi3 | Sindwani2 |      30 |    600\n",
    "     28 |     Avi8 | Sindwani7 |      60 |   1100\n",
    "      1 |  Avinash |      null |    null |    400\n",
    "     22 |     Avi2 | Sindwani1 |      20 |    500\n",
    "     27 |     Avi7 | Sindwani6 |      55 |   1000\n",
    "     20 |      Avi |  Sindwani |    null |    400\n",
    "     29 |     Avi9 | Sindwani8 |      65 |   1200\n",
    "     26 |     Avi6 | Sindwani5 |      50 |    900\n",
    "     21 |     Avi1 |  Sindwani |      10 |    400\n",
    "     24 |     Avi4 | Sindwani3 |      40 |    700\n",
    "     25 |     Avi5 | Sindwani4 |      45 |    800\n",
    "'''\n",
    "    "
   ]
  },
  {
   "cell_type": "code",
   "execution_count": null,
   "id": "69a501a3",
   "metadata": {},
   "outputs": [],
   "source": []
  }
 ],
 "metadata": {
  "kernelspec": {
   "display_name": "Python 3",
   "language": "python",
   "name": "python3"
  },
  "language_info": {
   "codemirror_mode": {
    "name": "ipython",
    "version": 3
   },
   "file_extension": ".py",
   "mimetype": "text/x-python",
   "name": "python",
   "nbconvert_exporter": "python",
   "pygments_lexer": "ipython3",
   "version": "3.8.8"
  }
 },
 "nbformat": 4,
 "nbformat_minor": 5
}
