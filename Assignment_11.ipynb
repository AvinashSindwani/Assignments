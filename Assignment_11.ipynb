{
 "cells": [
  {
   "cell_type": "code",
   "execution_count": 9,
   "id": "01757a27",
   "metadata": {},
   "outputs": [
    {
     "ename": "AssertionError",
     "evalue": "Invalid operation",
     "output_type": "error",
     "traceback": [
      "\u001b[1;31m---------------------------------------------------------------------------\u001b[0m",
      "\u001b[1;31mAssertionError\u001b[0m                            Traceback (most recent call last)",
      "\u001b[1;32m<ipython-input-9-4ea5d61b403f>\u001b[0m in \u001b[0;36m<module>\u001b[1;34m\u001b[0m\n\u001b[0;32m      4\u001b[0m \u001b[1;33m\u001b[0m\u001b[0m\n\u001b[0;32m      5\u001b[0m \u001b[0mspam\u001b[0m\u001b[1;33m=\u001b[0m \u001b[1;33m-\u001b[0m\u001b[1;36m1\u001b[0m\u001b[1;33m\u001b[0m\u001b[1;33m\u001b[0m\u001b[0m\n\u001b[1;32m----> 6\u001b[1;33m \u001b[1;32massert\u001b[0m \u001b[0mspam\u001b[0m \u001b[1;33m>\u001b[0m \u001b[1;36m0\u001b[0m \u001b[1;33m,\u001b[0m\u001b[1;34m\"Invalid operation\"\u001b[0m\u001b[1;33m\u001b[0m\u001b[1;33m\u001b[0m\u001b[0m\n\u001b[0m\u001b[0;32m      7\u001b[0m \u001b[0mprint\u001b[0m\u001b[1;33m(\u001b[0m\u001b[0mspam\u001b[0m\u001b[1;33m)\u001b[0m\u001b[1;33m\u001b[0m\u001b[1;33m\u001b[0m\u001b[0m\n\u001b[0;32m      8\u001b[0m \u001b[1;33m\u001b[0m\u001b[0m\n",
      "\u001b[1;31mAssertionError\u001b[0m: Invalid operation"
     ]
    }
   ],
   "source": [
    "#Create an assert statement that throws an AssertionError if the variable spam is a negative integer.\n",
    "\n",
    "#Ans: \n",
    "\n",
    "spam= -1\n",
    "assert spam > 0 ,\"Invalid operation\"\n",
    "print(spam)\n",
    "\n"
   ]
  },
  {
   "cell_type": "code",
   "execution_count": 14,
   "id": "84cc9058",
   "metadata": {},
   "outputs": [
    {
     "ename": "AssertionError",
     "evalue": "Please review your answer",
     "output_type": "error",
     "traceback": [
      "\u001b[1;31m---------------------------------------------------------------------------\u001b[0m",
      "\u001b[1;31mAssertionError\u001b[0m                            Traceback (most recent call last)",
      "\u001b[1;32m<ipython-input-14-c15a060971ce>\u001b[0m in \u001b[0;36m<module>\u001b[1;34m\u001b[0m\n\u001b[0;32m      5\u001b[0m \u001b[0mbacon\u001b[0m\u001b[1;33m=\u001b[0m\u001b[1;34m'GOODbye'\u001b[0m\u001b[1;33m\u001b[0m\u001b[1;33m\u001b[0m\u001b[0m\n\u001b[0;32m      6\u001b[0m \u001b[1;33m\u001b[0m\u001b[0m\n\u001b[1;32m----> 7\u001b[1;33m \u001b[1;32massert\u001b[0m \u001b[0meggs\u001b[0m\u001b[1;33m.\u001b[0m\u001b[0mlower\u001b[0m\u001b[1;33m(\u001b[0m\u001b[1;33m)\u001b[0m \u001b[1;33m!=\u001b[0m \u001b[0mbacon\u001b[0m\u001b[1;33m.\u001b[0m\u001b[0mlower\u001b[0m\u001b[1;33m(\u001b[0m\u001b[1;33m)\u001b[0m\u001b[1;33m,\u001b[0m \u001b[1;34m\"Please review your answer\"\u001b[0m\u001b[1;33m\u001b[0m\u001b[1;33m\u001b[0m\u001b[0m\n\u001b[0m\u001b[0;32m      8\u001b[0m \u001b[1;33m\u001b[0m\u001b[0m\n",
      "\u001b[1;31mAssertionError\u001b[0m: Please review your answer"
     ]
    }
   ],
   "source": [
    "#Write an assert statement that triggers an AssertionError if the variables eggs and bacon contain strings that are the same as each other, even if their cases are different (that is, &#39;hello&#39; and &#39;hello&#39; are\n",
    "#considered the same, and &#39;goodbye&#39; and &#39;GOODbye&#39; are also considered the same).\n",
    "\n",
    "eggs= 'goodbye'\n",
    "bacon='GOODbye'\n",
    "\n",
    "assert eggs.lower() != bacon.lower(), \"Please review your answer both variable should not be same.\"\n",
    "\n"
   ]
  },
  {
   "cell_type": "code",
   "execution_count": 19,
   "id": "8e3ba13c",
   "metadata": {},
   "outputs": [
    {
     "ename": "AssertionError",
     "evalue": "Assertion Error",
     "output_type": "error",
     "traceback": [
      "\u001b[1;31m---------------------------------------------------------------------------\u001b[0m",
      "\u001b[1;31mAssertionError\u001b[0m                            Traceback (most recent call last)",
      "\u001b[1;32m<ipython-input-19-fcc13b387b0e>\u001b[0m in \u001b[0;36m<module>\u001b[1;34m\u001b[0m\n\u001b[0;32m      1\u001b[0m \u001b[1;31m#Create an assert statement that throws an AssertionError every time.\u001b[0m\u001b[1;33m\u001b[0m\u001b[1;33m\u001b[0m\u001b[1;33m\u001b[0m\u001b[0m\n\u001b[0;32m      2\u001b[0m \u001b[1;33m\u001b[0m\u001b[0m\n\u001b[1;32m----> 3\u001b[1;33m \u001b[1;32massert\u001b[0m \u001b[1;36m0\u001b[0m\u001b[1;33m,\u001b[0m \u001b[1;34m\"Assertion Error\"\u001b[0m\u001b[1;33m\u001b[0m\u001b[1;33m\u001b[0m\u001b[0m\n\u001b[0m",
      "\u001b[1;31mAssertionError\u001b[0m: Assertion Error"
     ]
    }
   ],
   "source": [
    "#Create an assert statement that throws an AssertionError every time.\n",
    "\n",
    "assert 0, \"Assertion Error\"\n"
   ]
  },
  {
   "cell_type": "code",
   "execution_count": 27,
   "id": "fe58ddaa",
   "metadata": {},
   "outputs": [],
   "source": [
    "#What are the two lines that must be present in your software in order to call logging.debug()?\n",
    "\n",
    "#Ans: \n",
    "import logging\n",
    "logging.basicConfig(level=logging.DEBUG)\n",
    "    \n"
   ]
  },
  {
   "cell_type": "code",
   "execution_count": 36,
   "id": "b8b03041",
   "metadata": {},
   "outputs": [
    {
     "name": "stderr",
     "output_type": "stream",
     "text": [
      "DEBUG:root:This is logger\n"
     ]
    }
   ],
   "source": [
    "#What are the two lines that your program must have in order to have logging.debug() send a logging message to a file named programLog.txt?\n",
    "\n",
    "import logging\n",
    "logging.basicConfig(filename='loggerg.txt', level=logging.DEBUG)\n",
    "logging.debug(\"This is logger\")"
   ]
  },
  {
   "cell_type": "code",
   "execution_count": null,
   "id": "a0472c1d",
   "metadata": {},
   "outputs": [],
   "source": [
    "#What are the five levels of logging?\n",
    "#Ans: \n",
    "#1) Debug\n",
    "#2) Config\n",
    "#3) Info\n",
    "#4) Error\n",
    "#5) Warn\n",
    "#6) FATAL\n",
    "#7) ALL"
   ]
  },
  {
   "cell_type": "code",
   "execution_count": null,
   "id": "143d0f4b",
   "metadata": {},
   "outputs": [],
   "source": [
    "#What line of code would you add to your software to disable all logging messages?\n",
    "#Ans:  logger.propagate = False, or we can set level to critical or False\n",
    "#logging.disable(logging.CRITICAL)\n"
   ]
  },
  {
   "cell_type": "code",
   "execution_count": null,
   "id": "935122cf",
   "metadata": {},
   "outputs": [],
   "source": [
    "#8.Why is using logging messages better than using print() to display the same message?\n",
    "\n",
    "#Ans: If we want to record any instance of user have to use logger and timestamp."
   ]
  },
  {
   "cell_type": "code",
   "execution_count": null,
   "id": "da4bd00c",
   "metadata": {},
   "outputs": [],
   "source": [
    "#9. What are the differences between the Step Over, Step In, and Step Out buttons in the debugger?\n",
    "\n",
    "#Step into will proceed into the foo call, and the current line will then become the return \"hi\"; line within foo.\n",
    "#Step over will ignore the fact that another method is being invoked, and will proceed to the return t; line (which lets you quickly see what t is evaluated as).\n",
    "#Step out will finish the execution of the rest of the bar method, and control will return to the last line of the main method.\n",
    "\n",
    "def main():\n",
    "   s = foo();\n",
    "   bar(s);\n",
    "\n",
    "\n",
    "def foo():\n",
    "   return \"hi\";\n",
    "def bar(s):\n",
    "   t = s + foo();\n",
    "   return t;\n"
   ]
  },
  {
   "cell_type": "code",
   "execution_count": null,
   "id": "82e8654d",
   "metadata": {},
   "outputs": [],
   "source": [
    "#10. After you click Continue, when will the debugger stop ?\n",
    "\n",
    "#Ans: On next brakpoint or end of the program."
   ]
  },
  {
   "cell_type": "code",
   "execution_count": null,
   "id": "540bfe65",
   "metadata": {},
   "outputs": [],
   "source": [
    "#11. What is the concept of a breakpoint?\n",
    "\n",
    "#Ans: Stops the debugger/execution at line where debugger added\n"
   ]
  }
 ],
 "metadata": {
  "kernelspec": {
   "display_name": "Python 3",
   "language": "python",
   "name": "python3"
  },
  "language_info": {
   "codemirror_mode": {
    "name": "ipython",
    "version": 3
   },
   "file_extension": ".py",
   "mimetype": "text/x-python",
   "name": "python",
   "nbconvert_exporter": "python",
   "pygments_lexer": "ipython3",
   "version": "3.8.8"
  }
 },
 "nbformat": 4,
 "nbformat_minor": 5
}
