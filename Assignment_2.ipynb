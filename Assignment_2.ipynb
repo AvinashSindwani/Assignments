{
 "cells": [
  {
   "cell_type": "code",
   "execution_count": null,
   "metadata": {},
   "outputs": [],
   "source": [
    "#1.What are the two values of the Boolean data type? How do you write them?\n",
    "\n",
    "Ans: \n",
    "    True, False\n",
    "    var1= True\n",
    "    var2= False\n",
    "True can be considered as 1 and false as 0 in numerical terms.\n"
   ]
  },
  {
   "cell_type": "code",
   "execution_count": null,
   "metadata": {},
   "outputs": [],
   "source": [
    "#Q2. What are the three different types of Boolean operators?\n",
    "\n",
    "Ans: \n",
    "    and, or, not are three diffrent types of boolean operators."
   ]
  },
  {
   "cell_type": "code",
   "execution_count": null,
   "metadata": {},
   "outputs": [],
   "source": [
    "#Q3. Make a list of each Boolean operator's truth tables (i.e. every possible combination of Boolean values for the operator and what it evaluate).\n",
    "\n",
    "Ans:\n",
    "    0 and 0 = 0\n",
    "    0 and 1 = 0\n",
    "    1 and 0 = 0\n",
    "    1 and 1 = 1\n",
    "    \n",
    "    0 or 0 = 0\n",
    "    0 or 1 = 1\n",
    "    1 or 0 = 1\n",
    "    1 or 1 = 1\n",
    "    \n",
    "    not(1) = 0\n",
    "    not(0) = 1\n",
    "    \n",
    "# 1 can be termed as True and 0 can be False"
   ]
  },
  {
   "cell_type": "code",
   "execution_count": null,
   "metadata": {},
   "outputs": [],
   "source": [
    "#Q4. What are the values of the following expressions?\n",
    "\n",
    "Ans: \n",
    "    (5 > 4) and (3 == 5) = False\n",
    "    not (5 > 4)= False\n",
    "    (5 > 4) or (3 == 5) = True\n",
    "    not ((5 > 4) or (3 == 5)) = False\n",
    "    (True and True) and (True == False) =False\n",
    "    (not False) or (not True)= True"
   ]
  },
  {
   "cell_type": "code",
   "execution_count": null,
   "metadata": {},
   "outputs": [],
   "source": [
    "#Q5. What are the six comparison operators?\n",
    "\n",
    "Ans: \n",
    "    < : 'Return True if left side is smaller then right side of operator, False otherwise.'\n",
    "    > : 'Return True if left side is greater then right side of operator, False otherwise.'\n",
    "    >= : 'Return True if left side is greater then or equal to right side of operator, False otherwise.'\n",
    "    <= : 'Return True if left side is smaller then or equal to right side of operator, False otherwise.'\n",
    "    === : 'Return True if left side is exactly equal to right side of operator, False otherwise.'\n",
    "    !== : 'Return True if left side is not equal to right side of operator, False otherwise.'"
   ]
  },
  {
   "cell_type": "code",
   "execution_count": null,
   "metadata": {},
   "outputs": [],
   "source": [
    "#Q6. How do you tell the difference between the equal to and assignment operators? Describe a condition and when you would use one.\n",
    "\n",
    "Ans: \n",
    "    Equal to operator return True or False and used majorly when we need comparisons.\n",
    "    Assignment operator assign the data in right side to left side of variable.\n",
    "    \n",
    "    for e.g.\n",
    "    \n",
    "        a=5\n",
    "        b=7\n",
    "        \n",
    "    when we have to check a equals to b or not then we need equal to operator and notation is a == b\n",
    "    \n",
    "    to perform any calculation firstly we need asignment of variable for e.g. a=5 variable must denote some data to peform any calculations."
   ]
  },
  {
   "cell_type": "code",
   "execution_count": null,
   "metadata": {},
   "outputs": [],
   "source": [
    "#Q7. Identify the three blocks in this code:\n",
    "\n",
    "spam = 0 #Value 0 is assigned to variable spam. \n",
    "if spam == 10: # check if spam is equalto 10\n",
    "    print('eggs') # eggs will be printed if spam==10 return true\n",
    "if spam > 5: # Check if spam is greter then 5\n",
    "    print('bacon')# bacon will be printed if spam > 5 return true\n",
    "else: # program will run else if spam > 5 return false \n",
    "    print('ham') # ham printed if spam > 5 return false \n",
    "    print('spam') # spam printed if spam > 5 return false \n",
    "    print('spam') # spam printed if spam > 5 return false\n",
    "\n",
    "Ans: Have commented after each block, please confirm if this is fine.\n",
    "    \n",
    "    "
   ]
  },
  {
   "cell_type": "code",
   "execution_count": 3,
   "metadata": {},
   "outputs": [
    {
     "name": "stdout",
     "output_type": "stream",
     "text": [
      "Hello\n"
     ]
    }
   ],
   "source": [
    "#Q8. Write code that prints Hello if 1 is stored in spam, prints Howdy if 2 is stored in spam, and prints Greetings! if anything else is stored in spam.\n",
    "\n",
    "spam=1\n",
    "if spam==1:\n",
    "    print('Hello')\n",
    "elif spam==2:\n",
    "    print('Howdy')\n",
    "else:\n",
    "    print('Greetings!')"
   ]
  },
  {
   "cell_type": "code",
   "execution_count": null,
   "metadata": {},
   "outputs": [],
   "source": [
    "#Q9.If your programme is stuck in an endless loop, what keys you’ll press?\n",
    "Ans:\n",
    "Ctrl+C\n"
   ]
  },
  {
   "cell_type": "code",
   "execution_count": null,
   "metadata": {},
   "outputs": [],
   "source": [
    "#Q10. How can you tell the difference between break and continue?\n",
    "\n",
    "Ans:Nothing after break and continue in loop will be executed if execution is on \n",
    "    \n",
    "    Break breaks the loop and execution start from next item after the loop.\n",
    "    Continue retains the execution in loop and next iteration of loop will be executed."
   ]
  },
  {
   "cell_type": "code",
   "execution_count": 9,
   "metadata": {
    "collapsed": true
   },
   "outputs": [
    {
     "name": "stdout",
     "output_type": "stream",
     "text": [
      "[0, 1, 2, 3, 4, 5, 6, 7, 8, 9]\n",
      "[0, 1, 2, 3, 4, 5, 6, 7, 8, 9]\n",
      "[0, 1, 2, 3, 4, 5, 6, 7, 8, 9]\n"
     ]
    }
   ],
   "source": [
    "#Q11. In a for loop, what is the difference between range(10), range(0, 10), and range(0, 10, 1)?\n",
    "\n",
    "#Ans: range function is used to return \n",
    "\n",
    "\n",
    "    1. range(10) is using 1 parameter which is upper bound and lower bound by deafult is 0. loop will be executed from 0 to 9.\n",
    "    2. range(0, 10) default values of lower bound will be over ridden by 0 to 0 as we are manually passing. loop will be executed from 0 to 9. \n",
    "    3. range(0,10,1) adding to above step size is also mentioned in this case on each iteration of loop next iterater will be 1+ to previous iterater. loop will be executed from 0 to 9.\n",
    "    \n",
    "    "
   ]
  },
  {
   "cell_type": "code",
   "execution_count": 12,
   "metadata": {
    "collapsed": true
   },
   "outputs": [
    {
     "name": "stdout",
     "output_type": "stream",
     "text": [
      "1\n",
      "2\n",
      "3\n",
      "4\n",
      "5\n",
      "6\n",
      "7\n",
      "8\n",
      "9\n",
      "10\n",
      "1\n",
      "2\n",
      "3\n",
      "4\n",
      "5\n",
      "6\n",
      "7\n",
      "8\n",
      "9\n",
      "10\n"
     ]
    }
   ],
   "source": [
    "#Q12. Write a short program that prints the numbers 1 to 10 using a for loop. Then write an equivalent program that prints the numbers 1 to 10 using a while loop.\n",
    "\n",
    "for i in range(1,11):\n",
    "    print(i)\n",
    "\n",
    "i=1\n",
    "while i < 11:\n",
    "    print(i)\n",
    "    i += 1\n"
   ]
  },
  {
   "cell_type": "code",
   "execution_count": null,
   "metadata": {},
   "outputs": [],
   "source": [
    "import spam\n",
    "print(spam.bacon())\n"
   ]
  }
 ],
 "metadata": {
  "kernelspec": {
   "display_name": "Python 3",
   "language": "python",
   "name": "python3"
  },
  "language_info": {
   "codemirror_mode": {
    "name": "ipython",
    "version": 3
   },
   "file_extension": ".py",
   "mimetype": "text/x-python",
   "name": "python",
   "nbconvert_exporter": "python",
   "pygments_lexer": "ipython3",
   "version": "3.8.5"
  }
 },
 "nbformat": 4,
 "nbformat_minor": 4
}
